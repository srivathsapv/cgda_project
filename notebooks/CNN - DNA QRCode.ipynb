{
 "cells": [
  {
   "cell_type": "code",
   "execution_count": 1,
   "metadata": {},
   "outputs": [],
   "source": [
    "import autoreload\n",
    "%reload_ext autoreload\n",
    "%autoreload 2"
   ]
  },
  {
   "cell_type": "code",
   "execution_count": 2,
   "metadata": {},
   "outputs": [],
   "source": [
    "import os\n",
    "\n",
    "import time\n",
    "import progressbar\n",
    "import warnings\n",
    "import copy\n",
    "import pandas as pd\n",
    "import numpy as np\n",
    "from io import BytesIO\n",
    "import matplotlib.pyplot as plt\n",
    "from mpl_toolkits.mplot3d import Axes3D\n",
    "from PIL import Image\n",
    "\n",
    "import torch\n",
    "import torch.utils.data as utils\n",
    "import torch.nn as nn\n",
    "from torch.autograd import Variable\n",
    "import torch.nn.functional as F\n",
    "import torch.backends.cudnn as cudnn\n",
    "from torch.nn import ReLU\n",
    "\n",
    "from multiprocessing import cpu_count\n",
    "from torch.multiprocessing import Pool\n",
    "\n",
    "%matplotlib inline\n",
    "plt.style.use('seaborn')\n",
    "\n",
    "warnings.filterwarnings(\"ignore\")\n",
    "torch.set_num_threads(1)"
   ]
  },
  {
   "cell_type": "code",
   "execution_count": 3,
   "metadata": {},
   "outputs": [],
   "source": [
    "def read_data_from_csv(path):\n",
    "    df = pd.read_csv(path)\n",
    "    X = df[\"sequence\"].values\n",
    "    y = df[\"label\"].values\n",
    "    y_names = df[\"class_name\"].values\n",
    "    return X, y, y_names"
   ]
  },
  {
   "cell_type": "code",
   "execution_count": 4,
   "metadata": {},
   "outputs": [],
   "source": [
    "def load_train_val_test_data(level, analyze=True, return_label_names=False):\n",
    "    data_base_path = \"../data/hierarchy/\" + level\n",
    "    train_sequences, train_labels, train_label_names = read_data_from_csv(os.path.join(data_base_path, \"train.csv\"))\n",
    "    val_sequences, val_labels, val_label_names = read_data_from_csv(os.path.join(data_base_path, \"val.csv\"))\n",
    "    test_sequences, test_labels, test_label_names = read_data_from_csv(os.path.join(data_base_path, \"test.csv\"))\n",
    "    \n",
    "    if analyze:\n",
    "        a = list(map(lambda x: len(x), train_sequences))\n",
    "        print(\"DNA Sequence Length Statistics:\")\n",
    "        print(\"Max:\", np.max(a))\n",
    "        print(\"Min:\", np.min(a))\n",
    "        print(\"Mean:\", np.ceil(np.mean(a)))\n",
    "        print(\"Median:\", np.ceil(np.median(a)))\n",
    "        print(\"Sqrt of Max:\", np.ceil(np.sqrt(np.max(a))))\n",
    "    if return_label_names:\n",
    "        return train_sequences, train_labels, val_sequences, val_labels, test_sequences, test_labels, test_label_names\n",
    "    return train_sequences, train_labels, val_sequences, val_labels, test_sequences, test_labels"
   ]
  },
  {
   "cell_type": "code",
   "execution_count": 5,
   "metadata": {},
   "outputs": [],
   "source": [
    "IMAGE_WIDTH = IMAGE_HEIGHT = 21  # 441 length zero-padded DNA sequences\n",
    "IMAGE_CHANNELS = 4  # A, C, G, T\n",
    "\n",
    "base_pair_map = {\n",
    "    'A': [1, 0, 0, 0],\n",
    "    'C': [0, 1, 0, 0],\n",
    "    'G': [0, 0, 1, 0],\n",
    "    'T': [0, 0, 0, 1],\n",
    "    'X': [0, 0, 0, 0]\n",
    "}\n",
    "\n",
    "def seqeunces_to_image(sequences):\n",
    "    image = np.zeros((len(sequences), IMAGE_WIDTH, IMAGE_HEIGHT, IMAGE_CHANNELS))\n",
    "    for i, sequence in enumerate(sequences):\n",
    "        for loc, base_pair in enumerate(sequence):\n",
    "            row = loc // IMAGE_HEIGHT\n",
    "            col = loc % IMAGE_HEIGHT\n",
    "            image[i, row, col] = base_pair_map[base_pair]\n",
    "    return image"
   ]
  },
  {
   "cell_type": "code",
   "execution_count": 6,
   "metadata": {},
   "outputs": [
    {
     "name": "stdout",
     "output_type": "stream",
     "text": [
      "DNA Sequence Length Statistics:\n",
      "Max: 440\n",
      "Min: 400\n",
      "Mean: 422.0\n",
      "Median: 423.0\n",
      "Sqrt of Max: 21.0\n"
     ]
    }
   ],
   "source": [
    "# analyze sequences to get the image size\n",
    "train_sequences, train_labels, val_sequences, val_labels, test_sequences, test_labels = load_train_val_test_data(\"phylum\")"
   ]
  },
  {
   "cell_type": "code",
   "execution_count": 7,
   "metadata": {},
   "outputs": [],
   "source": [
    "base_pair_colors = {\n",
    "    (1, 0, 0, 0): [183, 28, 28],  # red\n",
    "    (0, 1, 0, 0): [174, 234, 0],  # green\n",
    "    (0, 0, 1, 0): [0, 145, 234],  # blue\n",
    "    (0, 0, 0, 1): [255, 111, 0],  # orange\n",
    "    (0, 0, 0, 0): [33, 33, 33]   # black\n",
    "}\n",
    "\n",
    "base_pair_char = {\n",
    "    (1, 0, 0, 0): \"A\",\n",
    "    (0, 1, 0, 0): \"C\",\n",
    "    (0, 0, 1, 0): \"G\",\n",
    "    (0, 0, 0, 1): \"T\",\n",
    "    (0, 0, 0, 0): \"X\"\n",
    "}\n",
    "\n",
    "def viz_dna_image(dna_image, log=False):\n",
    "    w, h, _ = dna_image.shape\n",
    "    dna_rgb_image = np.zeros((w, h, 3))\n",
    "    dna_char_image = np.empty((w, h), dtype=\"U10\")\n",
    "    for i, row in enumerate(dna_image):\n",
    "        for j, col in enumerate(row):\n",
    "            dna_rgb_image[i][j] = base_pair_colors[tuple(col)]\n",
    "            dna_char_image[i][j] = base_pair_char[tuple(col)]\n",
    "    plt.grid(b=None)\n",
    "\n",
    "    if log:\n",
    "        print(\"DNA Sequence:\\n\", dna_char_image.flatten())\n",
    "        print(\"DNA Block:\\n\", dna_char_image)\n",
    "        print(\"DNA QRCode:\")\n",
    "    plt.imshow(dna_rgb_image/255.0)"
   ]
  },
  {
   "cell_type": "code",
   "execution_count": 8,
   "metadata": {},
   "outputs": [],
   "source": [
    "def create_pytorch_datasets(data, labels):\n",
    "    tensor_x = torch.stack([torch.Tensor(np.swapaxes(i, 0, 2)) for i in data]) # transform to torch tensors\n",
    "    tensor_y = torch.stack([torch.Tensor([i]) for i in labels]).long().view(-1)\n",
    "\n",
    "    dataset = utils.TensorDataset(tensor_x,tensor_y) # create your datset\n",
    "    dataloader = utils.DataLoader(dataset, batch_size=BATCH_SIZE) # create your dataloader\n",
    "    \n",
    "    return dataloader"
   ]
  },
  {
   "cell_type": "code",
   "execution_count": 10,
   "metadata": {},
   "outputs": [
    {
     "name": "stdout",
     "output_type": "stream",
     "text": [
      "DNA Sequence:\n",
      " ['G' 'A' 'C' 'G' 'A' 'T' 'T' 'A' 'G' 'T' 'G' 'G' 'C' 'X' 'X' 'X']\n",
      "DNA Block:\n",
      " [['G' 'A' 'C' 'G']\n",
      " ['A' 'T' 'T' 'A']\n",
      " ['G' 'T' 'G' 'G']\n",
      " ['C' 'X' 'X' 'X']]\n",
      "DNA QRCode:\n"
     ]
    },
    {
     "data": {
      "image/png": "[encoded data removed]",
      "text/plain": [
       "<Figure size 432x288 with 1 Axes>"
      ]
     },
     "metadata": {
      "needs_background": "light"
     },
     "output_type": "display_data"
    }
   ],
   "source": [
    "# Sample DNA Image Viz\n",
    "sample_dna_sequence = \"GACGATTAGTGGCXXX\"  # 13bp length\n",
    "dna_image = np.array([base_pair_map[c] for c in list(sample_dna_sequence)]).reshape(4, 4, 4)\n",
    "viz_dna_image(dna_image, log=True)"
   ]
  },
  {
   "cell_type": "code",
   "execution_count": 76,
   "metadata": {},
   "outputs": [
    {
     "name": "stdout",
     "output_type": "stream",
     "text": [
      "2\n"
     ]
    },
    {
     "data": {
      "image/png": "[encoded data removed]",
      "text/plain": [
       "<Figure size 432x288 with 1 Axes>"
      ]
     },
     "metadata": {
      "needs_background": "light"
     },
     "output_type": "display_data"
    }
   ],
   "source": [
    "train_data = seqeunces_to_image(train_sequences)\n",
    "viz_dna_image(train_data[0])\n",
    "print(train_labels[0])"
   ]
  },
  {
   "cell_type": "markdown",
   "metadata": {},
   "source": []
  }
 ],
 "metadata": {
  "kernelspec": {
   "display_name": "Python 3",
   "language": "python",
   "name": "python3"
  },
  "language_info": {
   "codemirror_mode": {
    "name": "ipython",
    "version": 3
   },
   "file_extension": ".py",
   "mimetype": "text/x-python",
   "name": "python",
   "nbconvert_exporter": "python",
   "pygments_lexer": "ipython3",
   "version": "3.6.5"
  }
 },
 "nbformat": 4,
 "nbformat_minor": 2
}
