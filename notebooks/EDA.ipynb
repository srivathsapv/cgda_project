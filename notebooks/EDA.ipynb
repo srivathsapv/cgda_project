{
 "cells": [
  {
   "cell_type": "markdown",
   "metadata": {},
   "source": [
    "# Preprocessing and Exploratory Data Analysis"
   ]
  },
  {
   "cell_type": "markdown",
   "metadata": {},
   "source": [
    "### Import libraries and read source FASTA file"
   ]
  },
  {
   "cell_type": "code",
   "execution_count": 2,
   "metadata": {},
   "outputs": [],
   "source": [
    "import numpy as np\n",
    "import pandas as pd\n",
    "from tqdm import tqdm_notebook as tqdm\n",
    "import uuid\n",
    "\n",
    "fpath_fasta = '../data/current_Bacteria_unaligned.fa'\n",
    "seq_data = open(fpath_fasta, 'r').read()\n",
    "lines = seq_data.split('\\n')"
   ]
  },
  {
   "cell_type": "markdown",
   "metadata": {},
   "source": [
    "### Function to process sample rows"
   ]
  },
  {
   "cell_type": "code",
   "execution_count": 3,
   "metadata": {},
   "outputs": [],
   "source": [
    "def get_seq_dict(desc, seq):\n",
    "    try:\n",
    "        keys = ['domain', 'phylum', 'class', 'subclass', 'order', 'suborder', 'family', 'genus']\n",
    "        txn_info = desc.split('rootrank;')[1].split(';')\n",
    "        seq_info = {}\n",
    "        for i, key in enumerate(keys):\n",
    "            try:\n",
    "                idx = txn_info.index(key)\n",
    "                seq_info[key] = txn_info[idx-1].replace('\"', '')\n",
    "            except ValueError:\n",
    "                seq_info[key] = None\n",
    "        seq_info['id'] = uuid.uuid4().hex[:10].upper()\n",
    "        seq_info['seq_len'] = len(seq)\n",
    "        seq_info['sequence'] = seq.upper()\n",
    "    except Exception as e:\n",
    "        print(i)\n",
    "        print(txn_info)\n",
    "        print(desc)\n",
    "        raise IndexError(e)\n",
    "    \n",
    "    return seq_info"
   ]
  },
  {
   "cell_type": "markdown",
   "metadata": {},
   "source": [
    "### Compile DNA sequence samples as an array of dicts"
   ]
  },
  {
   "cell_type": "code",
   "execution_count": 4,
   "metadata": {},
   "outputs": [
    {
     "data": {
      "application/vnd.jupyter.widget-view+json": {
       "model_id": "e8d141463e904403936bbd0c8488e05d",
       "version_major": 2,
       "version_minor": 0
      },
      "text/plain": [
       "HBox(children=(IntProgress(value=0, max=46267413), HTML(value='')))"
      ]
     },
     "metadata": {},
     "output_type": "display_data"
    },
    {
     "name": "stdout",
     "output_type": "stream",
     "text": [
      "\n"
     ]
    }
   ],
   "source": [
    "desc = ''\n",
    "seq = ''\n",
    "\n",
    "seq_dicts = []\n",
    "\n",
    "for i, line in enumerate(tqdm(lines, total=len(lines))):\n",
    "    if line.startswith('>'):\n",
    "        if len(desc) > 0 and len(seq) > 0:\n",
    "            seq_dicts.append(get_seq_dict(desc, seq))\n",
    "        desc = line\n",
    "        seq = ''\n",
    "    else:\n",
    "        seq += line"
   ]
  },
  {
   "cell_type": "markdown",
   "metadata": {},
   "source": [
    "### Create dataframe from sequence dicts"
   ]
  },
  {
   "cell_type": "code",
   "execution_count": 6,
   "metadata": {},
   "outputs": [],
   "source": [
    "df_seqs = pd.DataFrame(seq_dicts)"
   ]
  },
  {
   "cell_type": "markdown",
   "metadata": {},
   "source": [
    "### Filter by sequence length"
   ]
  },
  {
   "cell_type": "code",
   "execution_count": 7,
   "metadata": {},
   "outputs": [
    {
     "name": "stderr",
     "output_type": "stream",
     "text": [
      "/home/srivathsa/miniconda3/envs/superpacs/lib/python3.6/site-packages/ipykernel_launcher.py:2: UserWarning: Boolean Series key will be reindexed to match DataFrame index.\n",
      "  \n"
     ]
    },
    {
     "name": "stdout",
     "output_type": "stream",
     "text": [
      "6072902\n"
     ]
    }
   ],
   "source": [
    "df_len_filtered = df_seqs[df_seqs['seq_len'] >= 1270]\n",
    "df_len_filtered = df_len_filtered[df_seqs['seq_len'] <= 1370]\n",
    "\n",
    "print(df_len_filtered.size)"
   ]
  },
  {
   "cell_type": "markdown",
   "metadata": {},
   "source": [
    "### Filter by sample counts per phylum"
   ]
  },
  {
   "cell_type": "code",
   "execution_count": 8,
   "metadata": {},
   "outputs": [
    {
     "name": "stdout",
     "output_type": "stream",
     "text": [
      "['Actinobacteria', 'Proteobacteria', 'Firmicutes']\n",
      "(443483, 11)\n"
     ]
    }
   ],
   "source": [
    "top_phylum_names = list(df_len_filtered['phylum'].value_counts()[:3].index)\n",
    "print(top_phylum_names)\n",
    "\n",
    "df_phy_filtered = df_len_filtered[df_len_filtered['phylum'].isin(top_phylum_names)]\n",
    "print(df_phy_filtered.shape)"
   ]
  },
  {
   "cell_type": "markdown",
   "metadata": {},
   "source": [
    "### Filter by sample counts per class"
   ]
  },
  {
   "cell_type": "code",
   "execution_count": 9,
   "metadata": {},
   "outputs": [
    {
     "name": "stdout",
     "output_type": "stream",
     "text": [
      "['Actinobacteria', 'Clostridia', 'Gammaproteobacteria', 'Bacilli', 'Betaproteobacteria']\n",
      "(393891, 11)\n"
     ]
    }
   ],
   "source": [
    "top_class_names = list(df_phy_filtered['class'].value_counts()[:5].index)\n",
    "print(top_class_names)\n",
    "\n",
    "df_class_filtered = df_phy_filtered[df_phy_filtered['class'].isin(top_class_names)]\n",
    "print(df_class_filtered.shape)"
   ]
  },
  {
   "cell_type": "markdown",
   "metadata": {},
   "source": [
    "### Filter by sample counts per order"
   ]
  },
  {
   "cell_type": "code",
   "execution_count": 10,
   "metadata": {},
   "outputs": [
    {
     "name": "stdout",
     "output_type": "stream",
     "text": [
      "['Actinomycetales', 'Clostridiales', 'Lactobacillales', 'Burkholderiales', 'Pseudomonadales', 'Enterobacteriales', 'Bacillales', 'Pasteurellales', 'Neisseriales', 'Xanthomonadales', 'Coriobacteriales', 'Acidimicrobiales', 'Alteromonadales', 'Vibrionales', 'Rhodocyclales', 'Cardiobacteriales', 'Aeromonadales', 'Oceanospirillales', 'Chromatiales']\n",
      "(386059, 11)\n"
     ]
    }
   ],
   "source": [
    "top_order_names = list(df_class_filtered['order'].value_counts()[:19].index)\n",
    "print(top_order_names)\n",
    "\n",
    "df_order_filtered = df_class_filtered[df_class_filtered['order'].isin(top_order_names)]\n",
    "print(df_order_filtered.shape)"
   ]
  },
  {
   "cell_type": "markdown",
   "metadata": {},
   "source": [
    "### Filter by sample counts per family"
   ]
  },
  {
   "cell_type": "code",
   "execution_count": 11,
   "metadata": {},
   "outputs": [
    {
     "name": "stdout",
     "output_type": "stream",
     "text": [
      "(371247, 11)\n"
     ]
    }
   ],
   "source": [
    "top_family_names = list(df_order_filtered['family'].value_counts()[:65].index)\n",
    "\n",
    "df_family_filtered = df_order_filtered[df_order_filtered['family'].isin(top_family_names)]\n",
    "print(df_family_filtered.shape)"
   ]
  },
  {
   "cell_type": "markdown",
   "metadata": {},
   "source": [
    "### Filter by sample counts per genus"
   ]
  },
  {
   "cell_type": "code",
   "execution_count": 12,
   "metadata": {},
   "outputs": [
    {
     "name": "stdout",
     "output_type": "stream",
     "text": [
      "(339308, 11)\n"
     ]
    }
   ],
   "source": [
    "top_genus_names = list(df_family_filtered['genus'].value_counts()[:393].index)\n",
    "\n",
    "df_final = df_family_filtered[df_family_filtered['genus'].isin(top_genus_names)]\n",
    "print(df_final.shape)"
   ]
  },
  {
   "cell_type": "markdown",
   "metadata": {},
   "source": [
    "### Sample count per phylum"
   ]
  },
  {
   "cell_type": "code",
   "execution_count": 13,
   "metadata": {},
   "outputs": [
    {
     "data": {
      "text/plain": [
       "Actinobacteria    147411\n",
       "Firmicutes        102599\n",
       "Proteobacteria     89298\n",
       "Name: phylum, dtype: int64"
      ]
     },
     "execution_count": 13,
     "metadata": {},
     "output_type": "execute_result"
    }
   ],
   "source": [
    "df_final['phylum'].value_counts()"
   ]
  },
  {
   "cell_type": "markdown",
   "metadata": {},
   "source": [
    "### Sample count per class"
   ]
  },
  {
   "cell_type": "code",
   "execution_count": 14,
   "metadata": {},
   "outputs": [
    {
     "data": {
      "text/plain": [
       "Actinobacteria         147411\n",
       "Bacilli                 61977\n",
       "Gammaproteobacteria     53530\n",
       "Clostridia              40622\n",
       "Betaproteobacteria      35768\n",
       "Name: class, dtype: int64"
      ]
     },
     "execution_count": 14,
     "metadata": {},
     "output_type": "execute_result"
    }
   ],
   "source": [
    "df_final['class'].value_counts()"
   ]
  },
  {
   "cell_type": "markdown",
   "metadata": {},
   "source": [
    "### Sample count per order"
   ]
  },
  {
   "cell_type": "code",
   "execution_count": 15,
   "metadata": {},
   "outputs": [
    {
     "data": {
      "text/plain": [
       "Actinomycetales      144873\n",
       "Lactobacillales       52706\n",
       "Clostridiales         40622\n",
       "Burkholderiales       28799\n",
       "Pseudomonadales       23083\n",
       "Enterobacteriales     15054\n",
       "Bacillales             9271\n",
       "Pasteurellales         8469\n",
       "Neisseriales           5978\n",
       "Xanthomonadales        1880\n",
       "Coriobacteriales       1783\n",
       "Vibrionales            1306\n",
       "Alteromonadales        1203\n",
       "Aeromonadales          1084\n",
       "Rhodocyclales           991\n",
       "Acidimicrobiales        755\n",
       "Oceanospirillales       602\n",
       "Cardiobacteriales       595\n",
       "Chromatiales            254\n",
       "Name: order, dtype: int64"
      ]
     },
     "execution_count": 15,
     "metadata": {},
     "output_type": "execute_result"
    }
   ],
   "source": [
    "df_final['order'].value_counts()"
   ]
  },
  {
   "cell_type": "markdown",
   "metadata": {},
   "source": [
    "### Sample count per family"
   ]
  },
  {
   "cell_type": "code",
   "execution_count": 17,
   "metadata": {},
   "outputs": [
    {
     "data": {
      "text/plain": [
       "Corynebacteriaceae                 62174\n",
       "Propionibacteriaceae               57240\n",
       "Streptococcaceae                   41496\n",
       "Moraxellaceae                      16263\n",
       "Lachnospiraceae                    15107\n",
       "Enterobacteriaceae                 15054\n",
       "Comamonadaceae                     13460\n",
       "Ruminococcaceae                    10140\n",
       "Micrococcaceae                      8650\n",
       "Pasteurellaceae                     8469\n",
       "Burkholderiales_incertae_sedis      7087\n",
       "Clostridiales_Incertae Sedis XI     7054\n",
       "Pseudomonadaceae                    6820\n",
       "Neisseriaceae                       5978\n",
       "Burkholderiaceae                    5074\n",
       "Name: family, dtype: int64"
      ]
     },
     "execution_count": 17,
     "metadata": {},
     "output_type": "execute_result"
    }
   ],
   "source": [
    "df_final['family'].value_counts()[:15]"
   ]
  },
  {
   "cell_type": "markdown",
   "metadata": {},
   "source": [
    "### Sample count per genus"
   ]
  },
  {
   "cell_type": "code",
   "execution_count": 19,
   "metadata": {},
   "outputs": [
    {
     "data": {
      "text/plain": [
       "Corynebacterium      61768\n",
       "Propionibacterium    56755\n",
       "Streptococcus        40628\n",
       "Aquabacterium         7025\n",
       "Diaphorobacter        6891\n",
       "Moraxella             6719\n",
       "Acinetobacter         6696\n",
       "Pseudomonas           6603\n",
       "Serratia              5912\n",
       "Faecalibacterium      5217\n",
       "Neisseria             5182\n",
       "Haemophilus           4380\n",
       "Anaerococcus          4361\n",
       "Acidovorax            4227\n",
       "Bacillus              4186\n",
       "Name: genus, dtype: int64"
      ]
     },
     "execution_count": 19,
     "metadata": {},
     "output_type": "execute_result"
    }
   ],
   "source": [
    "df_final['genus'].value_counts()[:15]"
   ]
  },
  {
   "cell_type": "markdown",
   "metadata": {},
   "source": [
    "### Drop extra columns and create final dataframe"
   ]
  },
  {
   "cell_type": "code",
   "execution_count": 20,
   "metadata": {},
   "outputs": [],
   "source": [
    "df_final = df_final.reset_index(drop=True)\n",
    "df_final = df_final.drop(['seq_len', 'subclass', 'suborder', 'domain'], axis=1)"
   ]
  },
  {
   "cell_type": "markdown",
   "metadata": {},
   "source": [
    "### Shuffle and display the first 10 rows of the dataset"
   ]
  },
  {
   "cell_type": "code",
   "execution_count": 21,
   "metadata": {},
   "outputs": [
    {
     "data": {
      "text/html": [
       "<div>\n",
       "<style scoped>\n",
       "    .dataframe tbody tr th:only-of-type {\n",
       "        vertical-align: middle;\n",
       "    }\n",
       "\n",
       "    .dataframe tbody tr th {\n",
       "        vertical-align: top;\n",
       "    }\n",
       "\n",
       "    .dataframe thead th {\n",
       "        text-align: right;\n",
       "    }\n",
       "</style>\n",
       "<table border=\"1\" class=\"dataframe\">\n",
       "  <thead>\n",
       "    <tr style=\"text-align: right;\">\n",
       "      <th></th>\n",
       "      <th>class</th>\n",
       "      <th>family</th>\n",
       "      <th>genus</th>\n",
       "      <th>id</th>\n",
       "      <th>order</th>\n",
       "      <th>phylum</th>\n",
       "      <th>sequence</th>\n",
       "    </tr>\n",
       "  </thead>\n",
       "  <tbody>\n",
       "    <tr>\n",
       "      <th>280576</th>\n",
       "      <td>Bacilli</td>\n",
       "      <td>Streptococcaceae</td>\n",
       "      <td>Streptococcus</td>\n",
       "      <td>631F43DE7C</td>\n",
       "      <td>Lactobacillales</td>\n",
       "      <td>Firmicutes</td>\n",
       "      <td>GACGAACGCTGGCGGCGTGCCTAATACATGCAAGTAGAACGCTGAA...</td>\n",
       "    </tr>\n",
       "    <tr>\n",
       "      <th>224526</th>\n",
       "      <td>Gammaproteobacteria</td>\n",
       "      <td>Moraxellaceae</td>\n",
       "      <td>Moraxella</td>\n",
       "      <td>94AB77B150</td>\n",
       "      <td>Pseudomonadales</td>\n",
       "      <td>Proteobacteria</td>\n",
       "      <td>ATTGAACGCTGGCGGCAGGCTTAACACATGCAAGTCGAACGAAGTT...</td>\n",
       "    </tr>\n",
       "    <tr>\n",
       "      <th>306015</th>\n",
       "      <td>Clostridia</td>\n",
       "      <td>Clostridiales_Incertae Sedis XI</td>\n",
       "      <td>Finegoldia</td>\n",
       "      <td>E001E4D1A0</td>\n",
       "      <td>Clostridiales</td>\n",
       "      <td>Firmicutes</td>\n",
       "      <td>ACGAACGCTGGCGGCGTGCTTAACACATGCAAGTCGAACGGGATTT...</td>\n",
       "    </tr>\n",
       "    <tr>\n",
       "      <th>257451</th>\n",
       "      <td>Bacilli</td>\n",
       "      <td>Streptococcaceae</td>\n",
       "      <td>Streptococcus</td>\n",
       "      <td>065EDB51C9</td>\n",
       "      <td>Lactobacillales</td>\n",
       "      <td>Firmicutes</td>\n",
       "      <td>GCAGTAGAACGCTGAAGGAGGAGCTTGCTCTTCTGGATGAGTTGCG...</td>\n",
       "    </tr>\n",
       "    <tr>\n",
       "      <th>319473</th>\n",
       "      <td>Clostridia</td>\n",
       "      <td>Lachnospiraceae</td>\n",
       "      <td>Lachnospiracea_incertae_sedis</td>\n",
       "      <td>BD258CF42F</td>\n",
       "      <td>Clostridiales</td>\n",
       "      <td>Firmicutes</td>\n",
       "      <td>GATGAACGCTGGCGGCGTGCTTAACACATGCAAGTCGAACGAAGCA...</td>\n",
       "    </tr>\n",
       "    <tr>\n",
       "      <th>167514</th>\n",
       "      <td>Betaproteobacteria</td>\n",
       "      <td>Oxalobacteraceae</td>\n",
       "      <td>Janthinobacterium</td>\n",
       "      <td>7E0F265176</td>\n",
       "      <td>Burkholderiales</td>\n",
       "      <td>Proteobacteria</td>\n",
       "      <td>GTTTGATCCTGGCTCAGATTGAACGCTGGCGGCATGCCTTACACAT...</td>\n",
       "    </tr>\n",
       "    <tr>\n",
       "      <th>31565</th>\n",
       "      <td>Actinobacteria</td>\n",
       "      <td>Corynebacteriaceae</td>\n",
       "      <td>Corynebacterium</td>\n",
       "      <td>80C984F525</td>\n",
       "      <td>Actinomycetales</td>\n",
       "      <td>Actinobacteria</td>\n",
       "      <td>GACGAACGCTGGCGGCGTGCTTAACACATGCAAGTCGAACGGAAAG...</td>\n",
       "    </tr>\n",
       "    <tr>\n",
       "      <th>302231</th>\n",
       "      <td>Clostridia</td>\n",
       "      <td>Clostridiales_Incertae Sedis XI</td>\n",
       "      <td>Anaerococcus</td>\n",
       "      <td>47379ACF86</td>\n",
       "      <td>Clostridiales</td>\n",
       "      <td>Firmicutes</td>\n",
       "      <td>GATTAACGTTGGCGGCGTGCATAACACATGCAAGTCGAACGATGAA...</td>\n",
       "    </tr>\n",
       "    <tr>\n",
       "      <th>224052</th>\n",
       "      <td>Gammaproteobacteria</td>\n",
       "      <td>Moraxellaceae</td>\n",
       "      <td>Moraxella</td>\n",
       "      <td>2CCAA0F783</td>\n",
       "      <td>Pseudomonadales</td>\n",
       "      <td>Proteobacteria</td>\n",
       "      <td>ATTGAACGCTGGCGGCAGGCTTAACACATGCAAGTCGAACGATGAA...</td>\n",
       "    </tr>\n",
       "    <tr>\n",
       "      <th>296983</th>\n",
       "      <td>Bacilli</td>\n",
       "      <td>Streptococcaceae</td>\n",
       "      <td>Streptococcus</td>\n",
       "      <td>331173DFBD</td>\n",
       "      <td>Lactobacillales</td>\n",
       "      <td>Firmicutes</td>\n",
       "      <td>GACGAACGCTGGCGGCGTGCCTAATACATGCAAGTAGAACGCTGAA...</td>\n",
       "    </tr>\n",
       "  </tbody>\n",
       "</table>\n",
       "</div>"
      ],
      "text/plain": [
       "                      class                           family  \\\n",
       "280576              Bacilli                 Streptococcaceae   \n",
       "224526  Gammaproteobacteria                    Moraxellaceae   \n",
       "306015           Clostridia  Clostridiales_Incertae Sedis XI   \n",
       "257451              Bacilli                 Streptococcaceae   \n",
       "319473           Clostridia                  Lachnospiraceae   \n",
       "167514   Betaproteobacteria                 Oxalobacteraceae   \n",
       "31565        Actinobacteria               Corynebacteriaceae   \n",
       "302231           Clostridia  Clostridiales_Incertae Sedis XI   \n",
       "224052  Gammaproteobacteria                    Moraxellaceae   \n",
       "296983              Bacilli                 Streptococcaceae   \n",
       "\n",
       "                                genus          id            order  \\\n",
       "280576                  Streptococcus  631F43DE7C  Lactobacillales   \n",
       "224526                      Moraxella  94AB77B150  Pseudomonadales   \n",
       "306015                     Finegoldia  E001E4D1A0    Clostridiales   \n",
       "257451                  Streptococcus  065EDB51C9  Lactobacillales   \n",
       "319473  Lachnospiracea_incertae_sedis  BD258CF42F    Clostridiales   \n",
       "167514              Janthinobacterium  7E0F265176  Burkholderiales   \n",
       "31565                 Corynebacterium  80C984F525  Actinomycetales   \n",
       "302231                   Anaerococcus  47379ACF86    Clostridiales   \n",
       "224052                      Moraxella  2CCAA0F783  Pseudomonadales   \n",
       "296983                  Streptococcus  331173DFBD  Lactobacillales   \n",
       "\n",
       "                phylum                                           sequence  \n",
       "280576      Firmicutes  GACGAACGCTGGCGGCGTGCCTAATACATGCAAGTAGAACGCTGAA...  \n",
       "224526  Proteobacteria  ATTGAACGCTGGCGGCAGGCTTAACACATGCAAGTCGAACGAAGTT...  \n",
       "306015      Firmicutes  ACGAACGCTGGCGGCGTGCTTAACACATGCAAGTCGAACGGGATTT...  \n",
       "257451      Firmicutes  GCAGTAGAACGCTGAAGGAGGAGCTTGCTCTTCTGGATGAGTTGCG...  \n",
       "319473      Firmicutes  GATGAACGCTGGCGGCGTGCTTAACACATGCAAGTCGAACGAAGCA...  \n",
       "167514  Proteobacteria  GTTTGATCCTGGCTCAGATTGAACGCTGGCGGCATGCCTTACACAT...  \n",
       "31565   Actinobacteria  GACGAACGCTGGCGGCGTGCTTAACACATGCAAGTCGAACGGAAAG...  \n",
       "302231      Firmicutes  GATTAACGTTGGCGGCGTGCATAACACATGCAAGTCGAACGATGAA...  \n",
       "224052  Proteobacteria  ATTGAACGCTGGCGGCAGGCTTAACACATGCAAGTCGAACGATGAA...  \n",
       "296983      Firmicutes  GACGAACGCTGGCGGCGTGCCTAATACATGCAAGTAGAACGCTGAA...  "
      ]
     },
     "execution_count": 21,
     "metadata": {},
     "output_type": "execute_result"
    }
   ],
   "source": [
    "df_final.sample(frac=1)[:10]"
   ]
  },
  {
   "cell_type": "markdown",
   "metadata": {},
   "source": [
    "### Save the final processed dataframe as CSV"
   ]
  },
  {
   "cell_type": "code",
   "execution_count": 22,
   "metadata": {},
   "outputs": [],
   "source": [
    "df_final.to_csv('taxa.csv')"
   ]
  }
 ],
 "metadata": {
  "kernelspec": {
   "display_name": "Python 3",
   "language": "python",
   "name": "python3"
  },
  "language_info": {
   "codemirror_mode": {
    "name": "ipython",
    "version": 3
   },
   "file_extension": ".py",
   "mimetype": "text/x-python",
   "name": "python",
   "nbconvert_exporter": "python",
   "pygments_lexer": "ipython3",
   "version": "3.6.5"
  }
 },
 "nbformat": 4,
 "nbformat_minor": 2
}
