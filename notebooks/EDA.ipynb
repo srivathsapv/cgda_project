{
 "cells": [
  {
   "cell_type": "markdown",
   "metadata": {},
   "source": [
    "# Preprocessing and Exploratory Data Analysis"
   ]
  },
  {
   "cell_type": "markdown",
   "metadata": {},
   "source": [
    "### Import libraries and read source FASTA file"
   ]
  },
  {
   "cell_type": "code",
   "execution_count": 1,
   "metadata": {},
   "outputs": [],
   "source": [
    "import numpy as np\n",
    "import pandas as pd\n",
    "from tqdm import tqdm_notebook as tqdm\n",
    "import uuid\n",
    "\n",
    "fpath_fasta = '../data/current_Bacteria_unaligned.fa'\n",
    "seq_data = open(fpath_fasta, 'r').read()\n",
    "lines = seq_data.split('\\n')"
   ]
  },
  {
   "cell_type": "markdown",
   "metadata": {},
   "source": [
    "### Function to process sample rows"
   ]
  },
  {
   "cell_type": "code",
   "execution_count": 2,
   "metadata": {},
   "outputs": [],
   "source": [
    "def get_seq_dict(desc, seq):\n",
    "    try:\n",
    "        keys = ['domain', 'phylum', 'class', 'subclass', 'order', 'suborder', 'family', 'genus']\n",
    "        txn_info = desc.split('rootrank;')[1].split(';')\n",
    "        seq_info = {}\n",
    "        for i, key in enumerate(keys):\n",
    "            try:\n",
    "                idx = txn_info.index(key)\n",
    "                seq_info[key] = txn_info[idx-1].replace('\"', '')\n",
    "            except ValueError:\n",
    "                seq_info[key] = None\n",
    "        seq_info['id'] = uuid.uuid4().hex[:10].upper()\n",
    "        seq_info['seq_len'] = len(seq)\n",
    "        seq_info['sequence'] = seq.upper()\n",
    "    except Exception as e:\n",
    "        print(i)\n",
    "        print(txn_info)\n",
    "        print(desc)\n",
    "        raise IndexError(e)\n",
    "    \n",
    "    return seq_info"
   ]
  },
  {
   "cell_type": "markdown",
   "metadata": {},
   "source": [
    "### Compile DNA sequence samples as an array of dicts"
   ]
  },
  {
   "cell_type": "code",
   "execution_count": 3,
   "metadata": {},
   "outputs": [
    {
     "data": {
      "application/vnd.jupyter.widget-view+json": {
       "model_id": "d128b7f52f8c4cc09344f20a41a055a2",
       "version_major": 2,
       "version_minor": 0
      },
      "text/plain": [
       "HBox(children=(IntProgress(value=0, max=46267413), HTML(value='')))"
      ]
     },
     "metadata": {},
     "output_type": "display_data"
    },
    {
     "name": "stdout",
     "output_type": "stream",
     "text": [
      "\n"
     ]
    }
   ],
   "source": [
    "desc = ''\n",
    "seq = ''\n",
    "\n",
    "seq_dicts = []\n",
    "\n",
    "for i, line in enumerate(tqdm(lines, total=len(lines))):\n",
    "    if line.startswith('>'):\n",
    "        if len(desc) > 0 and len(seq) > 0:\n",
    "            seq_dicts.append(get_seq_dict(desc, seq))\n",
    "        desc = line\n",
    "        seq = ''\n",
    "    else:\n",
    "        seq += line"
   ]
  },
  {
   "cell_type": "markdown",
   "metadata": {},
   "source": [
    "### Create dataframe from sequence dicts"
   ]
  },
  {
   "cell_type": "code",
   "execution_count": 4,
   "metadata": {},
   "outputs": [],
   "source": [
    "df_seqs = pd.DataFrame(seq_dicts)"
   ]
  },
  {
   "cell_type": "markdown",
   "metadata": {},
   "source": [
    "### Filter by sequence length"
   ]
  },
  {
   "cell_type": "code",
   "execution_count": 111,
   "metadata": {},
   "outputs": [
    {
     "name": "stderr",
     "output_type": "stream",
     "text": [
      "/home/srivathsa/miniconda3/envs/superpacs/lib/python3.6/site-packages/ipykernel_launcher.py:4: FutureWarning: The reduce argument is deprecated and will be removed in a future version. You can specify result_type='reduce' to try to reduce the result to the original dimensions\n",
      "  after removing the cwd from sys.path.\n"
     ]
    },
    {
     "name": "stdout",
     "output_type": "stream",
     "text": [
      "353947\n"
     ]
    }
   ],
   "source": [
    "df_len_filtered = df_seqs[df_seqs['seq_len'] >= 400]\n",
    "df_len_filtered = df_len_filtered[df_seqs['seq_len'] <= 440]\n",
    "\n",
    "df_len_filtered = df_len_filtered[df_len_filtered.apply(lambda r: set(list(r['sequence'])) == {'G', 'C', 'A', 'T'}, axis=1, reduce=True)]\n",
    "df_len_filtered = df_len_filtered.drop_duplicates(subset='sequence')\n",
    "\n",
    "print(df_len_filtered.size)\n"
   ]
  },
  {
   "cell_type": "markdown",
   "metadata": {},
   "source": [
    "### Filter by sample counts per phylum"
   ]
  },
  {
   "cell_type": "code",
   "execution_count": 112,
   "metadata": {},
   "outputs": [
    {
     "name": "stdout",
     "output_type": "stream",
     "text": [
      "['Proteobacteria', 'Firmicutes', 'Actinobacteria']\n",
      "(22947, 11)\n"
     ]
    }
   ],
   "source": [
    "top_phylum_names = list(df_len_filtered['phylum'].value_counts()[:3].index)\n",
    "print(top_phylum_names)\n",
    "\n",
    "df_phy_filtered = df_len_filtered[df_len_filtered['phylum'].isin(top_phylum_names)]\n",
    "print(df_phy_filtered.shape)"
   ]
  },
  {
   "cell_type": "markdown",
   "metadata": {},
   "source": [
    "### Filter by sample counts per class"
   ]
  },
  {
   "cell_type": "code",
   "execution_count": 113,
   "metadata": {},
   "outputs": [
    {
     "name": "stdout",
     "output_type": "stream",
     "text": [
      "['Alphaproteobacteria', 'Actinobacteria', 'Gammaproteobacteria', 'Clostridia', 'Betaproteobacteria']\n",
      "(18406, 11)\n"
     ]
    }
   ],
   "source": [
    "top_class_names = list(df_phy_filtered['class'].value_counts()[:5].index)\n",
    "print(top_class_names)\n",
    "\n",
    "df_class_filtered = df_phy_filtered[df_phy_filtered['class'].isin(top_class_names)]\n",
    "print(df_class_filtered.shape)"
   ]
  },
  {
   "cell_type": "markdown",
   "metadata": {},
   "source": [
    "### Filter by sample counts per order"
   ]
  },
  {
   "cell_type": "code",
   "execution_count": 114,
   "metadata": {},
   "outputs": [
    {
     "name": "stdout",
     "output_type": "stream",
     "text": [
      "['Clostridiales', 'Actinomycetales', 'Burkholderiales', 'Rhizobiales', 'Pseudomonadales', 'Enterobacteriales', 'Sphingomonadales', 'Rhodobacterales', 'Bifidobacteriales', 'Nitrosomonadales', 'Coriobacteriales', 'Rhodospirillales', 'Xanthomonadales', 'Rhodocyclales', 'Alteromonadales', 'Caulobacterales', 'Acidimicrobiales', 'Oceanospirillales', 'Vibrionales']\n",
      "(14585, 11)\n"
     ]
    }
   ],
   "source": [
    "top_order_names = list(df_class_filtered['order'].value_counts()[:19].index)\n",
    "print(top_order_names)\n",
    "\n",
    "df_order_filtered = df_class_filtered[df_class_filtered['order'].isin(top_order_names)]\n",
    "print(df_order_filtered.shape)"
   ]
  },
  {
   "cell_type": "markdown",
   "metadata": {},
   "source": [
    "### Filter by sample counts per family"
   ]
  },
  {
   "cell_type": "code",
   "execution_count": 115,
   "metadata": {},
   "outputs": [
    {
     "name": "stdout",
     "output_type": "stream",
     "text": [
      "(12619, 11)\n"
     ]
    }
   ],
   "source": [
    "top_family_names = list(df_order_filtered['family'].value_counts()[:65].index)\n",
    "\n",
    "df_family_filtered = df_order_filtered[df_order_filtered['family'].isin(top_family_names)]\n",
    "print(df_family_filtered.shape)"
   ]
  },
  {
   "cell_type": "markdown",
   "metadata": {},
   "source": [
    "### Filter by sample counts per genus"
   ]
  },
  {
   "cell_type": "code",
   "execution_count": 116,
   "metadata": {},
   "outputs": [
    {
     "name": "stdout",
     "output_type": "stream",
     "text": [
      "(9174, 11)\n"
     ]
    }
   ],
   "source": [
    "top_genus_names = list(df_family_filtered['genus'].value_counts()[:393].index)\n",
    "\n",
    "df_final = df_family_filtered[df_family_filtered['genus'].isin(top_genus_names)]\n",
    "print(df_final.shape)"
   ]
  },
  {
   "cell_type": "markdown",
   "metadata": {},
   "source": [
    "### Sample count per phylum"
   ]
  },
  {
   "cell_type": "code",
   "execution_count": 117,
   "metadata": {},
   "outputs": [
    {
     "data": {
      "text/plain": [
       "Proteobacteria    5083\n",
       "Actinobacteria    2211\n",
       "Firmicutes        1880\n",
       "Name: phylum, dtype: int64"
      ]
     },
     "execution_count": 117,
     "metadata": {},
     "output_type": "execute_result"
    }
   ],
   "source": [
    "df_final['phylum'].value_counts()"
   ]
  },
  {
   "cell_type": "markdown",
   "metadata": {},
   "source": [
    "### Sample count per class"
   ]
  },
  {
   "cell_type": "code",
   "execution_count": 118,
   "metadata": {},
   "outputs": [
    {
     "data": {
      "text/plain": [
       "Actinobacteria         2211\n",
       "Clostridia             1880\n",
       "Betaproteobacteria     1746\n",
       "Gammaproteobacteria    1720\n",
       "Alphaproteobacteria    1617\n",
       "Name: class, dtype: int64"
      ]
     },
     "execution_count": 118,
     "metadata": {},
     "output_type": "execute_result"
    }
   ],
   "source": [
    "df_final['class'].value_counts()"
   ]
  },
  {
   "cell_type": "markdown",
   "metadata": {},
   "source": [
    "### Sample count per order"
   ]
  },
  {
   "cell_type": "code",
   "execution_count": 119,
   "metadata": {},
   "outputs": [
    {
     "data": {
      "text/plain": [
       "Clostridiales        1880\n",
       "Actinomycetales      1351\n",
       "Burkholderiales      1095\n",
       "Pseudomonadales       788\n",
       "Rhizobiales           762\n",
       "Bifidobacteriales     493\n",
       "Nitrosomonadales      413\n",
       "Sphingomonadales      362\n",
       "Enterobacteriales     324\n",
       "Coriobacteriales      318\n",
       "Rhodocyclales         238\n",
       "Xanthomonadales       226\n",
       "Alteromonadales       205\n",
       "Rhodobacterales       195\n",
       "Caulobacterales       174\n",
       "Rhodospirillales      124\n",
       "Vibrionales           106\n",
       "Oceanospirillales      71\n",
       "Acidimicrobiales       49\n",
       "Name: order, dtype: int64"
      ]
     },
     "execution_count": 119,
     "metadata": {},
     "output_type": "execute_result"
    }
   ],
   "source": [
    "df_final['order'].value_counts()"
   ]
  },
  {
   "cell_type": "markdown",
   "metadata": {},
   "source": [
    "### Sample count per family"
   ]
  },
  {
   "cell_type": "code",
   "execution_count": 120,
   "metadata": {},
   "outputs": [
    {
     "data": {
      "text/plain": [
       "Lachnospiraceae                      752\n",
       "Ruminococcaceae                      625\n",
       "Pseudomonadaceae                     576\n",
       "Bifidobacteriaceae                   493\n",
       "Burkholderiaceae                     446\n",
       "Nitrosomonadaceae                    413\n",
       "Comamonadaceae                       350\n",
       "Enterobacteriaceae                   324\n",
       "Sphingomonadaceae                    323\n",
       "Coriobacteriaceae                    318\n",
       "Rhodocyclaceae                       238\n",
       "Micrococcaceae                       238\n",
       "Mycobacteriaceae                     221\n",
       "Bradyrhizobiaceae                    212\n",
       "Moraxellaceae                        212\n",
       "Rhodobacteraceae                     195\n",
       "Xanthomonadaceae                     174\n",
       "Microbacteriaceae                    173\n",
       "Peptostreptococcaceae                170\n",
       "Caulobacteraceae                     167\n",
       "Rhizobiaceae                         162\n",
       "Propionibacteriaceae                 161\n",
       "Oxalobacteraceae                     141\n",
       "Clostridiaceae 1                     119\n",
       "Burkholderiales_incertae_sedis       118\n",
       "Corynebacteriaceae                   109\n",
       "Vibrionaceae                         106\n",
       "Clostridiales_Incertae Sedis XI      105\n",
       "Nocardiaceae                         103\n",
       "Streptomycetaceae                    101\n",
       "                                    ... \n",
       "Pseudoalteromonadaceae                63\n",
       "Eubacteriaceae                        62\n",
       "Nocardioidaceae                       61\n",
       "Actinomycetaceae                      57\n",
       "Sinobacteraceae                       52\n",
       "Clostridiales_Incertae Sedis XIII     47\n",
       "Pseudonocardiaceae                    43\n",
       "Erythrobacteraceae                    39\n",
       "Acetobacteraceae                      38\n",
       "Acidimicrobiaceae                     38\n",
       "Brucellaceae                          37\n",
       "Xanthobacteraceae                     36\n",
       "Oceanospirillaceae                    36\n",
       "Methylocystaceae                      36\n",
       "Halomonadaceae                        35\n",
       "Alcaligenaceae                        23\n",
       "Nakamurellaceae                       22\n",
       "Geodermatophilaceae                   20\n",
       "Intrasporangiaceae                    20\n",
       "Idiomarinaceae                        17\n",
       "Colwelliaceae                         17\n",
       "Sutterellaceae                        17\n",
       "Shewanellaceae                        14\n",
       "Rhizobiales_incertae_sedis            13\n",
       "Rhodobiaceae                          12\n",
       "Micromonosporaceae                    11\n",
       "Kineosporiaceae                       11\n",
       "Iamiaceae                             11\n",
       "Hyphomonadaceae                        7\n",
       "Beijerinckiaceae                       1\n",
       "Name: family, Length: 65, dtype: int64"
      ]
     },
     "execution_count": 120,
     "metadata": {},
     "output_type": "execute_result"
    }
   ],
   "source": [
    "df_final['family'].value_counts()"
   ]
  },
  {
   "cell_type": "markdown",
   "metadata": {},
   "source": [
    "### Sample count per genus"
   ]
  },
  {
   "cell_type": "code",
   "execution_count": 121,
   "metadata": {},
   "outputs": [
    {
     "data": {
      "text/plain": [
       "Pseudomonas          525\n",
       "Bifidobacterium      484\n",
       "Faecalibacterium     458\n",
       "Mycobacterium        221\n",
       "Nitrosomonas         207\n",
       "Nitrosospira         206\n",
       "Blautia              197\n",
       "Polynucleobacter     191\n",
       "Sphingomonas         169\n",
       "Bradyrhizobium       168\n",
       "Propionibacterium    137\n",
       "Collinsella          135\n",
       "Burkholderia         133\n",
       "Rhizobium            129\n",
       "Arthrobacter         126\n",
       "Name: genus, dtype: int64"
      ]
     },
     "execution_count": 121,
     "metadata": {},
     "output_type": "execute_result"
    }
   ],
   "source": [
    "df_final['genus'].value_counts()[:15]"
   ]
  },
  {
   "cell_type": "markdown",
   "metadata": {},
   "source": [
    "### Drop extra columns and create final dataframe"
   ]
  },
  {
   "cell_type": "code",
   "execution_count": 122,
   "metadata": {},
   "outputs": [],
   "source": [
    "df_final = df_final.reset_index(drop=True)\n",
    "df_final = df_final.drop(['seq_len', 'subclass', 'suborder', 'domain'], axis=1)"
   ]
  },
  {
   "cell_type": "markdown",
   "metadata": {},
   "source": [
    "### Shuffle and display the first 10 rows of the dataset"
   ]
  },
  {
   "cell_type": "code",
   "execution_count": 123,
   "metadata": {},
   "outputs": [
    {
     "data": {
      "text/html": [
       "<div>\n",
       "<style scoped>\n",
       "    .dataframe tbody tr th:only-of-type {\n",
       "        vertical-align: middle;\n",
       "    }\n",
       "\n",
       "    .dataframe tbody tr th {\n",
       "        vertical-align: top;\n",
       "    }\n",
       "\n",
       "    .dataframe thead th {\n",
       "        text-align: right;\n",
       "    }\n",
       "</style>\n",
       "<table border=\"1\" class=\"dataframe\">\n",
       "  <thead>\n",
       "    <tr style=\"text-align: right;\">\n",
       "      <th></th>\n",
       "      <th>class</th>\n",
       "      <th>family</th>\n",
       "      <th>genus</th>\n",
       "      <th>id</th>\n",
       "      <th>order</th>\n",
       "      <th>phylum</th>\n",
       "      <th>sequence</th>\n",
       "    </tr>\n",
       "  </thead>\n",
       "  <tbody>\n",
       "    <tr>\n",
       "      <th>417</th>\n",
       "      <td>Actinobacteria</td>\n",
       "      <td>Mycobacteriaceae</td>\n",
       "      <td>Mycobacterium</td>\n",
       "      <td>0BA04EBBA1</td>\n",
       "      <td>Actinomycetales</td>\n",
       "      <td>Actinobacteria</td>\n",
       "      <td>ACGTGGGTAATCTGCCCTGCACTTTGGGATAAGCCTGGGAAACTGG...</td>\n",
       "    </tr>\n",
       "    <tr>\n",
       "      <th>7805</th>\n",
       "      <td>Clostridia</td>\n",
       "      <td>Lachnospiraceae</td>\n",
       "      <td>Catonella</td>\n",
       "      <td>51C76D1F32</td>\n",
       "      <td>Clostridiales</td>\n",
       "      <td>Firmicutes</td>\n",
       "      <td>GATGAACGCAGGCGGCGTGCCTAACACATGCAAGTCGAACGGAGAT...</td>\n",
       "    </tr>\n",
       "    <tr>\n",
       "      <th>8388</th>\n",
       "      <td>Clostridia</td>\n",
       "      <td>Peptostreptococcaceae</td>\n",
       "      <td>Peptostreptococcus</td>\n",
       "      <td>18C889B711</td>\n",
       "      <td>Clostridiales</td>\n",
       "      <td>Firmicutes</td>\n",
       "      <td>GATGAACGCTGGCGGCGTGCCTAACACATGCAAGTCGAGCGAGGGT...</td>\n",
       "    </tr>\n",
       "    <tr>\n",
       "      <th>707</th>\n",
       "      <td>Actinobacteria</td>\n",
       "      <td>Microbacteriaceae</td>\n",
       "      <td>Microbacterium</td>\n",
       "      <td>F5A5E83098</td>\n",
       "      <td>Actinomycetales</td>\n",
       "      <td>Actinobacteria</td>\n",
       "      <td>GTCGAACGGTGAAGCCCAGCTTGCTGGGTGGATCAGTGGCGAACGG...</td>\n",
       "    </tr>\n",
       "    <tr>\n",
       "      <th>5644</th>\n",
       "      <td>Gammaproteobacteria</td>\n",
       "      <td>Alteromonadaceae</td>\n",
       "      <td>Marinobacter</td>\n",
       "      <td>748E5034DA</td>\n",
       "      <td>Alteromonadales</td>\n",
       "      <td>Proteobacteria</td>\n",
       "      <td>TCAGGCCTAACACATGCAAGTCGAGCGGTAACAGGGGGTGCTTGCA...</td>\n",
       "    </tr>\n",
       "    <tr>\n",
       "      <th>557</th>\n",
       "      <td>Actinobacteria</td>\n",
       "      <td>Geodermatophilaceae</td>\n",
       "      <td>Modestobacter</td>\n",
       "      <td>487AD84FCD</td>\n",
       "      <td>Actinomycetales</td>\n",
       "      <td>Actinobacteria</td>\n",
       "      <td>ATGGCTCAGGACGAACGCTGGCGGCGTGCTTAACACATGCAAGTCG...</td>\n",
       "    </tr>\n",
       "    <tr>\n",
       "      <th>1135</th>\n",
       "      <td>Actinobacteria</td>\n",
       "      <td>Propionibacteriaceae</td>\n",
       "      <td>Propionibacterium</td>\n",
       "      <td>03DDC3C596</td>\n",
       "      <td>Actinomycetales</td>\n",
       "      <td>Actinobacteria</td>\n",
       "      <td>AGTCGAACGGAAAGGCCCTGCTTTTGTGGGGTGCTCGAGTGGCGAA...</td>\n",
       "    </tr>\n",
       "    <tr>\n",
       "      <th>5073</th>\n",
       "      <td>Betaproteobacteria</td>\n",
       "      <td>Nitrosomonadaceae</td>\n",
       "      <td>Nitrosomonas</td>\n",
       "      <td>8FF4BD8983</td>\n",
       "      <td>Nitrosomonadales</td>\n",
       "      <td>Proteobacteria</td>\n",
       "      <td>TGCCAGCAGCCGCGGTAATACGTAGGGTGCGAGCGTTAATCGGAAT...</td>\n",
       "    </tr>\n",
       "    <tr>\n",
       "      <th>8316</th>\n",
       "      <td>Clostridia</td>\n",
       "      <td>Lachnospiraceae</td>\n",
       "      <td>Fusicatenibacter</td>\n",
       "      <td>095948F478</td>\n",
       "      <td>Clostridiales</td>\n",
       "      <td>Firmicutes</td>\n",
       "      <td>TTATCCGGATTTACTGGGTGTAAAGGGAGCGTAGACGGCAAGGCAA...</td>\n",
       "    </tr>\n",
       "    <tr>\n",
       "      <th>3058</th>\n",
       "      <td>Alphaproteobacteria</td>\n",
       "      <td>Rhizobiaceae</td>\n",
       "      <td>Rhizobium</td>\n",
       "      <td>D1BCA1F7A4</td>\n",
       "      <td>Rhizobiales</td>\n",
       "      <td>Proteobacteria</td>\n",
       "      <td>GCAAGTCGAACGCCCCGCAAGGGGAGTGGCAGACGGGTGAGTAACG...</td>\n",
       "    </tr>\n",
       "  </tbody>\n",
       "</table>\n",
       "</div>"
      ],
      "text/plain": [
       "                    class                 family               genus  \\\n",
       "417        Actinobacteria       Mycobacteriaceae       Mycobacterium   \n",
       "7805           Clostridia        Lachnospiraceae           Catonella   \n",
       "8388           Clostridia  Peptostreptococcaceae  Peptostreptococcus   \n",
       "707        Actinobacteria      Microbacteriaceae      Microbacterium   \n",
       "5644  Gammaproteobacteria       Alteromonadaceae        Marinobacter   \n",
       "557        Actinobacteria    Geodermatophilaceae       Modestobacter   \n",
       "1135       Actinobacteria   Propionibacteriaceae   Propionibacterium   \n",
       "5073   Betaproteobacteria      Nitrosomonadaceae        Nitrosomonas   \n",
       "8316           Clostridia        Lachnospiraceae    Fusicatenibacter   \n",
       "3058  Alphaproteobacteria           Rhizobiaceae           Rhizobium   \n",
       "\n",
       "              id             order          phylum  \\\n",
       "417   0BA04EBBA1   Actinomycetales  Actinobacteria   \n",
       "7805  51C76D1F32     Clostridiales      Firmicutes   \n",
       "8388  18C889B711     Clostridiales      Firmicutes   \n",
       "707   F5A5E83098   Actinomycetales  Actinobacteria   \n",
       "5644  748E5034DA   Alteromonadales  Proteobacteria   \n",
       "557   487AD84FCD   Actinomycetales  Actinobacteria   \n",
       "1135  03DDC3C596   Actinomycetales  Actinobacteria   \n",
       "5073  8FF4BD8983  Nitrosomonadales  Proteobacteria   \n",
       "8316  095948F478     Clostridiales      Firmicutes   \n",
       "3058  D1BCA1F7A4       Rhizobiales  Proteobacteria   \n",
       "\n",
       "                                               sequence  \n",
       "417   ACGTGGGTAATCTGCCCTGCACTTTGGGATAAGCCTGGGAAACTGG...  \n",
       "7805  GATGAACGCAGGCGGCGTGCCTAACACATGCAAGTCGAACGGAGAT...  \n",
       "8388  GATGAACGCTGGCGGCGTGCCTAACACATGCAAGTCGAGCGAGGGT...  \n",
       "707   GTCGAACGGTGAAGCCCAGCTTGCTGGGTGGATCAGTGGCGAACGG...  \n",
       "5644  TCAGGCCTAACACATGCAAGTCGAGCGGTAACAGGGGGTGCTTGCA...  \n",
       "557   ATGGCTCAGGACGAACGCTGGCGGCGTGCTTAACACATGCAAGTCG...  \n",
       "1135  AGTCGAACGGAAAGGCCCTGCTTTTGTGGGGTGCTCGAGTGGCGAA...  \n",
       "5073  TGCCAGCAGCCGCGGTAATACGTAGGGTGCGAGCGTTAATCGGAAT...  \n",
       "8316  TTATCCGGATTTACTGGGTGTAAAGGGAGCGTAGACGGCAAGGCAA...  \n",
       "3058  GCAAGTCGAACGCCCCGCAAGGGGAGTGGCAGACGGGTGAGTAACG...  "
      ]
     },
     "execution_count": 123,
     "metadata": {},
     "output_type": "execute_result"
    }
   ],
   "source": [
    "df_final.sample(frac=1)[:10]"
   ]
  },
  {
   "cell_type": "markdown",
   "metadata": {},
   "source": [
    "### Save the final processed dataframe as CSV"
   ]
  },
  {
   "cell_type": "code",
   "execution_count": 124,
   "metadata": {},
   "outputs": [],
   "source": [
    "df_final.to_csv('../data/taxa_400.csv')"
   ]
  },
  {
   "cell_type": "code",
   "execution_count": null,
   "metadata": {},
   "outputs": [],
   "source": []
  }
 ],
 "metadata": {
  "kernelspec": {
   "display_name": "Python 3",
   "language": "python",
   "name": "python3"
  },
  "language_info": {
   "codemirror_mode": {
    "name": "ipython",
    "version": 3
   },
   "file_extension": ".py",
   "mimetype": "text/x-python",
   "name": "python",
   "nbconvert_exporter": "python",
   "pygments_lexer": "ipython3",
   "version": "3.6.6"
  }
 },
 "nbformat": 4,
 "nbformat_minor": 2
}
