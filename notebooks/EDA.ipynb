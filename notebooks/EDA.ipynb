{
 "cells": [
  {
   "cell_type": "code",
   "execution_count": 1,
   "metadata": {},
   "outputs": [],
   "source": [
    "import numpy as np\n",
    "import pandas as pd\n",
    "from tqdm import tqdm_notebook as tqdm\n",
    "import uuid\n",
    "\n",
    "fpath_fasta = 'current_Bacteria_unaligned.fa'\n",
    "seq_data = open(fpath_fasta, 'r').read()\n",
    "lines = seq_data.split('\\n')"
   ]
  },
  {
   "cell_type": "code",
   "execution_count": 2,
   "metadata": {},
   "outputs": [],
   "source": [
    "def get_seq_dict(desc, seq):\n",
    "    try:\n",
    "        keys = ['domain', 'phylum', 'class', 'subclass', 'order', 'suborder', 'family', 'genus']\n",
    "        txn_info = desc.split('rootrank;')[1].split(';')\n",
    "        seq_info = {}\n",
    "        for i, key in enumerate(keys):\n",
    "            try:\n",
    "                idx = txn_info.index(key)\n",
    "                seq_info[key] = txn_info[idx-1].replace('\"', '')\n",
    "            except ValueError:\n",
    "                seq_info[key] = None\n",
    "        seq_info['id'] = uuid.uuid4().hex[:10].upper()\n",
    "        seq_info['seq_len'] = len(seq)\n",
    "        seq_info['sequence'] = seq.upper()\n",
    "    except Exception as e:\n",
    "        print(i)\n",
    "        print(txn_info)\n",
    "        print(desc)\n",
    "        raise IndexError(e)\n",
    "    \n",
    "    return seq_info"
   ]
  },
  {
   "cell_type": "code",
   "execution_count": 3,
   "metadata": {},
   "outputs": [
    {
     "data": {
      "application/vnd.jupyter.widget-view+json": {
       "model_id": "b3695237f07746cf82d79a3226661585",
       "version_major": 2,
       "version_minor": 0
      },
      "text/plain": [
       "HBox(children=(IntProgress(value=0, max=46267413), HTML(value='')))"
      ]
     },
     "metadata": {},
     "output_type": "display_data"
    }
   ],
   "source": [
    "desc = ''\n",
    "seq = ''\n",
    "\n",
    "seq_dicts = []\n",
    "\n",
    "for i, line in enumerate(tqdm(lines, total=len(lines))):\n",
    "    if line.startswith('>'):\n",
    "        if len(desc) > 0 and len(seq) > 0:\n",
    "            seq_dicts.append(get_seq_dict(desc, seq))\n",
    "        desc = line\n",
    "        seq = ''\n",
    "    else:\n",
    "        seq += line"
   ]
  },
  {
   "cell_type": "code",
   "execution_count": 4,
   "metadata": {},
   "outputs": [],
   "source": [
    "df_seqs = pd.DataFrame(seq_dicts)"
   ]
  },
  {
   "cell_type": "code",
   "execution_count": 5,
   "metadata": {},
   "outputs": [
    {
     "name": "stdout",
     "output_type": "stream",
     "text": [
      "552082\n"
     ]
    }
   ],
   "source": [
    "seq_lens = df_seqs['seq_len'].values\n",
    "\n",
    "lens, counts = np.unique(seq_lens, return_counts=True)\n",
    "\n",
    "print(np.sum(counts[np.where(np.logical_and(lens >= 1270, lens <= 1370))]))"
   ]
  },
  {
   "cell_type": "code",
   "execution_count": 6,
   "metadata": {},
   "outputs": [
    {
     "name": "stderr",
     "output_type": "stream",
     "text": [
      "/home/srivathsa/miniconda3/envs/superpacs/lib/python3.6/site-packages/ipykernel_launcher.py:3: UserWarning: Boolean Series key will be reindexed to match DataFrame index.\n",
      "  This is separate from the ipykernel package so we can avoid doing imports until\n"
     ]
    },
    {
     "name": "stdout",
     "output_type": "stream",
     "text": [
      "6072902\n"
     ]
    }
   ],
   "source": [
    "# filter based on sequence length\n",
    "df_len_filtered = df_seqs[df_seqs['seq_len'] >= 1270]\n",
    "df_len_filtered = df_len_filtered[df_seqs['seq_len'] <= 1370]\n",
    "\n",
    "print(df_len_filtered.size)"
   ]
  },
  {
   "cell_type": "code",
   "execution_count": 7,
   "metadata": {},
   "outputs": [
    {
     "name": "stdout",
     "output_type": "stream",
     "text": [
      "['Actinobacteria', 'Proteobacteria', 'Firmicutes']\n",
      "(443483, 11)\n"
     ]
    }
   ],
   "source": [
    "top_phylum_names = list(df_len_filtered['phylum'].value_counts()[:3].index)\n",
    "print(top_phylum_names)\n",
    "\n",
    "df_phy_filtered = df_len_filtered[df_len_filtered['phylum'].isin(top_phylum_names)]\n",
    "print(df_phy_filtered.shape)"
   ]
  },
  {
   "cell_type": "code",
   "execution_count": 8,
   "metadata": {},
   "outputs": [
    {
     "name": "stdout",
     "output_type": "stream",
     "text": [
      "['Actinobacteria', 'Clostridia', 'Gammaproteobacteria', 'Bacilli', 'Betaproteobacteria']\n",
      "(393891, 11)\n"
     ]
    }
   ],
   "source": [
    "top_class_names = list(df_phy_filtered['class'].value_counts()[:5].index)\n",
    "print(top_class_names)\n",
    "df_class_filtered = df_phy_filtered[df_phy_filtered['class'].isin(top_class_names)]\n",
    "print(df_class_filtered.shape)"
   ]
  },
  {
   "cell_type": "code",
   "execution_count": 9,
   "metadata": {},
   "outputs": [
    {
     "name": "stdout",
     "output_type": "stream",
     "text": [
      "['Actinomycetales', 'Clostridiales', 'Lactobacillales', 'Burkholderiales', 'Pseudomonadales', 'Enterobacteriales', 'Bacillales', 'Pasteurellales', 'Neisseriales', 'Xanthomonadales', 'Coriobacteriales', 'Acidimicrobiales', 'Alteromonadales', 'Vibrionales', 'Rhodocyclales', 'Cardiobacteriales', 'Aeromonadales', 'Oceanospirillales', 'Chromatiales']\n",
      "(386059, 11)\n"
     ]
    }
   ],
   "source": [
    "top_order_names = list(df_class_filtered['order'].value_counts()[:19].index)\n",
    "print(top_order_names)\n",
    "\n",
    "df_order_filtered = df_class_filtered[df_class_filtered['order'].isin(top_order_names)]\n",
    "print(df_order_filtered.shape)"
   ]
  },
  {
   "cell_type": "code",
   "execution_count": 10,
   "metadata": {},
   "outputs": [
    {
     "name": "stdout",
     "output_type": "stream",
     "text": [
      "(371247, 11)\n"
     ]
    }
   ],
   "source": [
    "top_family_names = list(df_order_filtered['family'].value_counts()[:65].index)\n",
    "\n",
    "df_family_filtered = df_order_filtered[df_order_filtered['family'].isin(top_family_names)]\n",
    "print(df_family_filtered.shape)"
   ]
  },
  {
   "cell_type": "code",
   "execution_count": 11,
   "metadata": {},
   "outputs": [
    {
     "name": "stdout",
     "output_type": "stream",
     "text": [
      "(339308, 11)\n"
     ]
    }
   ],
   "source": [
    "top_genus_names = list(df_family_filtered['genus'].value_counts()[:393].index)\n",
    "\n",
    "df_final = df_family_filtered[df_family_filtered['genus'].isin(top_genus_names)]\n",
    "print(df_final.shape)"
   ]
  },
  {
   "cell_type": "code",
   "execution_count": 12,
   "metadata": {},
   "outputs": [
    {
     "data": {
      "text/plain": [
       "Actinobacteria    147401\n",
       "Firmicutes        102589\n",
       "Proteobacteria     89318\n",
       "Name: phylum, dtype: int64"
      ]
     },
     "execution_count": 12,
     "metadata": {},
     "output_type": "execute_result"
    }
   ],
   "source": [
    "df_final['phylum'].value_counts()"
   ]
  },
  {
   "cell_type": "code",
   "execution_count": 13,
   "metadata": {},
   "outputs": [
    {
     "data": {
      "text/plain": [
       "Actinobacteria         147401\n",
       "Bacilli                 61977\n",
       "Gammaproteobacteria     53550\n",
       "Clostridia              40612\n",
       "Betaproteobacteria      35768\n",
       "Name: class, dtype: int64"
      ]
     },
     "execution_count": 13,
     "metadata": {},
     "output_type": "execute_result"
    }
   ],
   "source": [
    "df_final['class'].value_counts()"
   ]
  },
  {
   "cell_type": "code",
   "execution_count": 14,
   "metadata": {},
   "outputs": [
    {
     "data": {
      "text/plain": [
       "Actinomycetales      144873\n",
       "Lactobacillales       52706\n",
       "Clostridiales         40612\n",
       "Burkholderiales       28799\n",
       "Pseudomonadales       23083\n",
       "Enterobacteriales     15064\n",
       "Bacillales             9271\n",
       "Pasteurellales         8469\n",
       "Neisseriales           5978\n",
       "Xanthomonadales        1880\n",
       "Coriobacteriales       1773\n",
       "Vibrionales            1306\n",
       "Alteromonadales        1203\n",
       "Aeromonadales          1084\n",
       "Rhodocyclales           991\n",
       "Acidimicrobiales        755\n",
       "Oceanospirillales       612\n",
       "Cardiobacteriales       595\n",
       "Chromatiales            254\n",
       "Name: order, dtype: int64"
      ]
     },
     "execution_count": 14,
     "metadata": {},
     "output_type": "execute_result"
    }
   ],
   "source": [
    "df_final['order'].value_counts()"
   ]
  },
  {
   "cell_type": "code",
   "execution_count": 15,
   "metadata": {},
   "outputs": [
    {
     "data": {
      "text/plain": [
       "Corynebacteriaceae                   62174\n",
       "Propionibacteriaceae                 57240\n",
       "Streptococcaceae                     41496\n",
       "Moraxellaceae                        16263\n",
       "Lachnospiraceae                      15097\n",
       "Enterobacteriaceae                   15064\n",
       "Comamonadaceae                       13460\n",
       "Ruminococcaceae                      10140\n",
       "Micrococcaceae                        8650\n",
       "Pasteurellaceae                       8469\n",
       "Burkholderiales_incertae_sedis        7087\n",
       "Clostridiales_Incertae Sedis XI       7054\n",
       "Pseudomonadaceae                      6820\n",
       "Neisseriaceae                         5978\n",
       "Burkholderiaceae                      5074\n",
       "Bacillaceae 1                         4476\n",
       "Carnobacteriaceae                     4047\n",
       "Aerococcaceae                         3477\n",
       "Staphylococcaceae                     3211\n",
       "Peptostreptococcaceae                 3152\n",
       "Microbacteriaceae                     2828\n",
       "Lactobacillaceae                      2442\n",
       "Clostridiaceae 1                      2441\n",
       "Streptomycetaceae                     2247\n",
       "Oxalobacteraceae                      2140\n",
       "Peptoniphilaceae                      1987\n",
       "Nocardiaceae                          1913\n",
       "Mycobacteriaceae                      1893\n",
       "Coriobacteriaceae                     1773\n",
       "Actinomycetaceae                      1764\n",
       "                                     ...  \n",
       "Rhodocyclaceae                         991\n",
       "Alcaligenaceae                         801\n",
       "Paenibacillaceae 1                     798\n",
       "Enterococcaceae                        678\n",
       "Micromonosporaceae                     657\n",
       "Aeromonadaceae                         657\n",
       "Cardiobacteriaceae                     595\n",
       "Leuconostocaceae                       566\n",
       "Dermabacteraceae                       558\n",
       "Pseudoalteromonadaceae                 541\n",
       "Clostridiales_Incertae Sedis XIII      534\n",
       "Halomonadaceae                         502\n",
       "Dietziaceae                            500\n",
       "Planococcaceae                         493\n",
       "Pseudonocardiaceae                     488\n",
       "Alteromonadaceae                       437\n",
       "Succinivibrionaceae                    427\n",
       "Thermomonosporaceae                    407\n",
       "Acidimicrobineae_incertae_sedis        307\n",
       "Bacillales_Incertae Sedis XII          293\n",
       "Iamiaceae                              280\n",
       "Chromatiaceae                          254\n",
       "Sutterellaceae                         237\n",
       "Sinobacteraceae                        232\n",
       "Shewanellaceae                         225\n",
       "Clostridiales_Incertae Sedis XII       207\n",
       "Streptosporangiaceae                   194\n",
       "Acidimicrobiaceae                      168\n",
       "Oceanospirillaceae                     110\n",
       "Jiangellaceae                           50\n",
       "Name: family, Length: 65, dtype: int64"
      ]
     },
     "execution_count": 15,
     "metadata": {},
     "output_type": "execute_result"
    }
   ],
   "source": [
    "df_final['family'].value_counts()"
   ]
  },
  {
   "cell_type": "code",
   "execution_count": 16,
   "metadata": {},
   "outputs": [
    {
     "data": {
      "text/plain": [
       "Corynebacterium                  61768\n",
       "Propionibacterium                56755\n",
       "Streptococcus                    40628\n",
       "Aquabacterium                     7025\n",
       "Diaphorobacter                    6891\n",
       "Moraxella                         6719\n",
       "Acinetobacter                     6696\n",
       "Pseudomonas                       6603\n",
       "Serratia                          5912\n",
       "Faecalibacterium                  5217\n",
       "Neisseria                         5182\n",
       "Haemophilus                       4380\n",
       "Anaerococcus                      4361\n",
       "Acidovorax                        4227\n",
       "Bacillus                          4186\n",
       "Rothia                            4186\n",
       "Lachnospiracea_incertae_sedis     3443\n",
       "Dolosigranulum                    3435\n",
       "Aerococcus                        3216\n",
       "Burkholderia                      3190\n",
       "Staphylococcus                    2834\n",
       "Escherichia/Shigella              2784\n",
       "Blautia                           2762\n",
       "Klebsiella                        2612\n",
       "Lactobacillus                     2408\n",
       "Clostridium sensu stricto         2327\n",
       "Actinobacillus                    2234\n",
       "Streptomyces                      2189\n",
       "Enhydrobacter                     2003\n",
       "Peptoniphilus                     1987\n",
       "                                 ...  \n",
       "Sinomonas                           13\n",
       "Serinicoccus                        13\n",
       "Tepidimonas                         13\n",
       "Azohydromonas                       12\n",
       "Hylemonella                         12\n",
       "Saccharothrix                       12\n",
       "Aquitalea                           12\n",
       "Sodalis                             12\n",
       "Virgisporangium                     12\n",
       "Alishewanella                       12\n",
       "Tetragenococcus                     12\n",
       "Uruburuella                         12\n",
       "Phycicoccus                         12\n",
       "Howardella                          12\n",
       "Aliivibrio                          12\n",
       "Glaciimonas                         12\n",
       "Vogesella                           12\n",
       "Streptacidiphilus                   12\n",
       "Rummeliibacillus                    12\n",
       "Mycetocola                          11\n",
       "Yaniella                            11\n",
       "Haloactinopolyspora                 11\n",
       "Franconibacter                      11\n",
       "Tatumella                           11\n",
       "Actinotignum                        11\n",
       "Viridibacillus                      11\n",
       "Sphaerotilus                        11\n",
       "Prauserella                         11\n",
       "Xenorhabdus                         10\n",
       "Neptunomonas                        10\n",
       "Name: genus, Length: 393, dtype: int64"
      ]
     },
     "execution_count": 16,
     "metadata": {},
     "output_type": "execute_result"
    }
   ],
   "source": [
    "df_final['genus'].value_counts()"
   ]
  },
  {
   "cell_type": "code",
   "execution_count": 17,
   "metadata": {},
   "outputs": [],
   "source": [
    "df_final = df_final.reset_index(drop=True)\n",
    "df_final = df_final.drop(['seq_len', 'subclass', 'suborder', 'domain'], axis=1)"
   ]
  },
  {
   "cell_type": "code",
   "execution_count": 18,
   "metadata": {},
   "outputs": [
    {
     "data": {
      "text/html": [
       "<div>\n",
       "<style scoped>\n",
       "    .dataframe tbody tr th:only-of-type {\n",
       "        vertical-align: middle;\n",
       "    }\n",
       "\n",
       "    .dataframe tbody tr th {\n",
       "        vertical-align: top;\n",
       "    }\n",
       "\n",
       "    .dataframe thead th {\n",
       "        text-align: right;\n",
       "    }\n",
       "</style>\n",
       "<table border=\"1\" class=\"dataframe\">\n",
       "  <thead>\n",
       "    <tr style=\"text-align: right;\">\n",
       "      <th></th>\n",
       "      <th>class</th>\n",
       "      <th>family</th>\n",
       "      <th>genus</th>\n",
       "      <th>id</th>\n",
       "      <th>order</th>\n",
       "      <th>phylum</th>\n",
       "      <th>sequence</th>\n",
       "    </tr>\n",
       "  </thead>\n",
       "  <tbody>\n",
       "    <tr>\n",
       "      <th>16692</th>\n",
       "      <td>Actinobacteria</td>\n",
       "      <td>Corynebacteriaceae</td>\n",
       "      <td>Corynebacterium</td>\n",
       "      <td>AECE89CE5F</td>\n",
       "      <td>Actinomycetales</td>\n",
       "      <td>Actinobacteria</td>\n",
       "      <td>GACGAACGCTGGCGGCGTGCTTAACACATGCAAGTCGAACGGAAAG...</td>\n",
       "    </tr>\n",
       "    <tr>\n",
       "      <th>52127</th>\n",
       "      <td>Actinobacteria</td>\n",
       "      <td>Corynebacteriaceae</td>\n",
       "      <td>Corynebacterium</td>\n",
       "      <td>8E8CE2E9DF</td>\n",
       "      <td>Actinomycetales</td>\n",
       "      <td>Actinobacteria</td>\n",
       "      <td>GACGAACGCTGGCGGCGTGCTTAACACATGCAAGTCGAACGGAAAG...</td>\n",
       "    </tr>\n",
       "    <tr>\n",
       "      <th>88614</th>\n",
       "      <td>Actinobacteria</td>\n",
       "      <td>Propionibacteriaceae</td>\n",
       "      <td>Propionibacterium</td>\n",
       "      <td>4B67B78BFA</td>\n",
       "      <td>Actinomycetales</td>\n",
       "      <td>Actinobacteria</td>\n",
       "      <td>GACGAACGCTGGCGGCGTGCTTAACACATGCAAGTCGAACGGAAAG...</td>\n",
       "    </tr>\n",
       "    <tr>\n",
       "      <th>272762</th>\n",
       "      <td>Bacilli</td>\n",
       "      <td>Streptococcaceae</td>\n",
       "      <td>Streptococcus</td>\n",
       "      <td>59B9E6B437</td>\n",
       "      <td>Lactobacillales</td>\n",
       "      <td>Firmicutes</td>\n",
       "      <td>GACGAACGCTGGCGGCGTGCCTAATACATGCAAGTAGAACGCTGAA...</td>\n",
       "    </tr>\n",
       "    <tr>\n",
       "      <th>62619</th>\n",
       "      <td>Actinobacteria</td>\n",
       "      <td>Corynebacteriaceae</td>\n",
       "      <td>Corynebacterium</td>\n",
       "      <td>54CCBD9202</td>\n",
       "      <td>Actinomycetales</td>\n",
       "      <td>Actinobacteria</td>\n",
       "      <td>GACGAACGCTGGCGGCGTGCTTAACACATGCAAGTCGAACGGAAAG...</td>\n",
       "    </tr>\n",
       "    <tr>\n",
       "      <th>180905</th>\n",
       "      <td>Betaproteobacteria</td>\n",
       "      <td>Neisseriaceae</td>\n",
       "      <td>Neisseria</td>\n",
       "      <td>EEF726192E</td>\n",
       "      <td>Neisseriales</td>\n",
       "      <td>Proteobacteria</td>\n",
       "      <td>ATTGAACGCTGGCGGCATGCTTTACACATGCAAGTCGGACGGCAGC...</td>\n",
       "    </tr>\n",
       "    <tr>\n",
       "      <th>248511</th>\n",
       "      <td>Bacilli</td>\n",
       "      <td>Aerococcaceae</td>\n",
       "      <td>Aerococcus</td>\n",
       "      <td>2764B3AE8F</td>\n",
       "      <td>Lactobacillales</td>\n",
       "      <td>Firmicutes</td>\n",
       "      <td>GACGAACGCTGGCGGCATGCCTAATACATGCAAGTCGAGCGAACAG...</td>\n",
       "    </tr>\n",
       "    <tr>\n",
       "      <th>161215</th>\n",
       "      <td>Betaproteobacteria</td>\n",
       "      <td>Comamonadaceae</td>\n",
       "      <td>Diaphorobacter</td>\n",
       "      <td>CC582E3A10</td>\n",
       "      <td>Burkholderiales</td>\n",
       "      <td>Proteobacteria</td>\n",
       "      <td>ATTGAACGCTGGCGGCATGCCTTACACATGCAAGTCGAACGGTAAC...</td>\n",
       "    </tr>\n",
       "    <tr>\n",
       "      <th>53296</th>\n",
       "      <td>Actinobacteria</td>\n",
       "      <td>Corynebacteriaceae</td>\n",
       "      <td>Corynebacterium</td>\n",
       "      <td>F233F278B3</td>\n",
       "      <td>Actinomycetales</td>\n",
       "      <td>Actinobacteria</td>\n",
       "      <td>GACGAACGCTGGTGGCGTGCTTAACACATGCTAGTCGAACGGAAAG...</td>\n",
       "    </tr>\n",
       "    <tr>\n",
       "      <th>193594</th>\n",
       "      <td>Gammaproteobacteria</td>\n",
       "      <td>Enterobacteriaceae</td>\n",
       "      <td>Klebsiella</td>\n",
       "      <td>2ADD9278FB</td>\n",
       "      <td>Enterobacteriales</td>\n",
       "      <td>Proteobacteria</td>\n",
       "      <td>ATTGAACGCTGGCGGCAGGCCTAACACATGCAAGTCGAGCGGTAGC...</td>\n",
       "    </tr>\n",
       "  </tbody>\n",
       "</table>\n",
       "</div>"
      ],
      "text/plain": [
       "                      class                family              genus  \\\n",
       "16692        Actinobacteria    Corynebacteriaceae    Corynebacterium   \n",
       "52127        Actinobacteria    Corynebacteriaceae    Corynebacterium   \n",
       "88614        Actinobacteria  Propionibacteriaceae  Propionibacterium   \n",
       "272762              Bacilli      Streptococcaceae      Streptococcus   \n",
       "62619        Actinobacteria    Corynebacteriaceae    Corynebacterium   \n",
       "180905   Betaproteobacteria         Neisseriaceae          Neisseria   \n",
       "248511              Bacilli         Aerococcaceae         Aerococcus   \n",
       "161215   Betaproteobacteria        Comamonadaceae     Diaphorobacter   \n",
       "53296        Actinobacteria    Corynebacteriaceae    Corynebacterium   \n",
       "193594  Gammaproteobacteria    Enterobacteriaceae         Klebsiella   \n",
       "\n",
       "                id              order          phylum  \\\n",
       "16692   AECE89CE5F    Actinomycetales  Actinobacteria   \n",
       "52127   8E8CE2E9DF    Actinomycetales  Actinobacteria   \n",
       "88614   4B67B78BFA    Actinomycetales  Actinobacteria   \n",
       "272762  59B9E6B437    Lactobacillales      Firmicutes   \n",
       "62619   54CCBD9202    Actinomycetales  Actinobacteria   \n",
       "180905  EEF726192E       Neisseriales  Proteobacteria   \n",
       "248511  2764B3AE8F    Lactobacillales      Firmicutes   \n",
       "161215  CC582E3A10    Burkholderiales  Proteobacteria   \n",
       "53296   F233F278B3    Actinomycetales  Actinobacteria   \n",
       "193594  2ADD9278FB  Enterobacteriales  Proteobacteria   \n",
       "\n",
       "                                                 sequence  \n",
       "16692   GACGAACGCTGGCGGCGTGCTTAACACATGCAAGTCGAACGGAAAG...  \n",
       "52127   GACGAACGCTGGCGGCGTGCTTAACACATGCAAGTCGAACGGAAAG...  \n",
       "88614   GACGAACGCTGGCGGCGTGCTTAACACATGCAAGTCGAACGGAAAG...  \n",
       "272762  GACGAACGCTGGCGGCGTGCCTAATACATGCAAGTAGAACGCTGAA...  \n",
       "62619   GACGAACGCTGGCGGCGTGCTTAACACATGCAAGTCGAACGGAAAG...  \n",
       "180905  ATTGAACGCTGGCGGCATGCTTTACACATGCAAGTCGGACGGCAGC...  \n",
       "248511  GACGAACGCTGGCGGCATGCCTAATACATGCAAGTCGAGCGAACAG...  \n",
       "161215  ATTGAACGCTGGCGGCATGCCTTACACATGCAAGTCGAACGGTAAC...  \n",
       "53296   GACGAACGCTGGTGGCGTGCTTAACACATGCTAGTCGAACGGAAAG...  \n",
       "193594  ATTGAACGCTGGCGGCAGGCCTAACACATGCAAGTCGAGCGGTAGC...  "
      ]
     },
     "execution_count": 18,
     "metadata": {},
     "output_type": "execute_result"
    }
   ],
   "source": [
    "df_final.sample(frac=1)[:10]"
   ]
  },
  {
   "cell_type": "code",
   "execution_count": 20,
   "metadata": {},
   "outputs": [],
   "source": [
    "df_final.to_csv('taxa.csv')"
   ]
  },
  {
   "cell_type": "code",
   "execution_count": 19,
   "metadata": {},
   "outputs": [
    {
     "name": "stdout",
     "output_type": "stream",
     "text": [
      "339308\n",
      "339308\n"
     ]
    }
   ],
   "source": [
    "print(len(df_final['id'].values))\n",
    "print(len(np.unique(df_final['id'].values)))"
   ]
  },
  {
   "cell_type": "code",
   "execution_count": null,
   "metadata": {},
   "outputs": [],
   "source": []
  }
 ],
 "metadata": {
  "kernelspec": {
   "display_name": "Python 3",
   "language": "python",
   "name": "python3"
  },
  "language_info": {
   "codemirror_mode": {
    "name": "ipython",
    "version": 3
   },
   "file_extension": ".py",
   "mimetype": "text/x-python",
   "name": "python",
   "nbconvert_exporter": "python",
   "pygments_lexer": "ipython3",
   "version": "3.6.6"
  }
 },
 "nbformat": 4,
 "nbformat_minor": 2
}
