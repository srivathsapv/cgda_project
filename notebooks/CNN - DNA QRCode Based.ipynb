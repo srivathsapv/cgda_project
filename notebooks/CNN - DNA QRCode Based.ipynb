{
 "cells": [
  {
   "cell_type": "code",
   "execution_count": 20,
   "metadata": {},
   "outputs": [],
   "source": [
    "import os\n",
    "\n",
    "import time\n",
    "import progressbar\n",
    "import pandas as pd\n",
    "import numpy as np\n",
    "import matplotlib.pyplot as plt\n",
    "\n",
    "import torch\n",
    "import torch.utils.data as utils\n",
    "import torch.nn as nn\n",
    "from torch.autograd import Variable\n",
    "import torch.nn.functional as F\n",
    "\n",
    "%matplotlib inline\n",
    "plt.style.use('seaborn')"
   ]
  },
  {
   "cell_type": "code",
   "execution_count": 2,
   "metadata": {},
   "outputs": [],
   "source": [
    "BATCH_SIZE = 32\n",
    "NUM_CLASSES = 3\n",
    "LEVEL = \"phylum\"\n",
    "EPOCH = 10\n",
    "DEVICE = 'cuda' if torch.cuda.is_available() else 'cpu'"
   ]
  },
  {
   "cell_type": "code",
   "execution_count": 3,
   "metadata": {},
   "outputs": [],
   "source": [
    "def read_data_from_csv(path):\n",
    "    df = pd.read_csv(path)\n",
    "    X = df[\"sequence\"].values\n",
    "    y = df[\"label\"].values\n",
    "    return X, y"
   ]
  },
  {
   "cell_type": "code",
   "execution_count": 4,
   "metadata": {},
   "outputs": [],
   "source": [
    "data_base_path = \"../data/hierarchy/\"+LEVEL\n",
    "\n",
    "train_sequences, train_labels = read_data_from_csv(os.path.join(data_base_path, \"train.csv\"))\n",
    "val_sequences, val_labels = read_data_from_csv(os.path.join(data_base_path, \"val.csv\"))\n",
    "test_sequences, test_labels = read_data_from_csv(os.path.join(data_base_path, \"test.csv\"))"
   ]
  },
  {
   "cell_type": "code",
   "execution_count": 5,
   "metadata": {},
   "outputs": [
    {
     "name": "stdout",
     "output_type": "stream",
     "text": [
      "DNA Sequence Length Statistics:\n",
      "Max: 1370\n",
      "Min: 1270\n",
      "Mean: 1347.0\n",
      "Median: 1348.0\n",
      "Sqrt of Max: 38.0\n"
     ]
    }
   ],
   "source": [
    "a = list(map(lambda x: len(x), train_sequences))\n",
    "\n",
    "print(\"DNA Sequence Length Statistics:\")\n",
    "print(\"Max:\", np.max(a))\n",
    "print(\"Min:\", np.min(a))\n",
    "print(\"Mean:\", np.ceil(np.mean(a)))\n",
    "print(\"Median:\", np.ceil(np.median(a)))\n",
    "print(\"Sqrt of Max:\", np.ceil(np.sqrt(np.max(a))))"
   ]
  },
  {
   "cell_type": "code",
   "execution_count": 6,
   "metadata": {},
   "outputs": [],
   "source": [
    "IMAGE_WIDTH = IMAGE_HEIGHT = 38  # 1444 length zero-padded DNA sequences\n",
    "IMAGE_CHANNELS = 4  # A, C, G, T"
   ]
  },
  {
   "cell_type": "code",
   "execution_count": 7,
   "metadata": {},
   "outputs": [],
   "source": [
    "base_pair_map = {\n",
    "    'A': [1, 0, 0, 0],\n",
    "    'C': [0, 1, 0, 0],\n",
    "    'G': [0, 0, 1, 0],\n",
    "    'T': [0, 0, 0, 1]\n",
    "}\n",
    "\n",
    "def seqeunces_to_image(sequences):\n",
    "    image = np.zeros((len(sequences), IMAGE_WIDTH, IMAGE_HEIGHT, IMAGE_CHANNELS))\n",
    "    for i, sequence in enumerate(sequences):\n",
    "        for loc, base_pair in enumerate(sequence):\n",
    "            row = loc // IMAGE_HEIGHT\n",
    "            col = loc % IMAGE_HEIGHT\n",
    "            image[i, row, col] = base_pair_map[base_pair]\n",
    "    return image"
   ]
  },
  {
   "cell_type": "code",
   "execution_count": 8,
   "metadata": {},
   "outputs": [],
   "source": [
    "train_data = seqeunces_to_image(train_sequences)\n",
    "val_data = seqeunces_to_image(val_sequences)\n",
    "test_data = seqeunces_to_image(test_sequences)"
   ]
  },
  {
   "cell_type": "code",
   "execution_count": 9,
   "metadata": {},
   "outputs": [],
   "source": [
    "base_pair_colors = {\n",
    "    (1, 0, 0, 0): [183, 28, 28],  # red\n",
    "    (0, 1, 0, 0): [174, 234, 0],  # green\n",
    "    (0, 0, 1, 0): [0, 145, 234],  # blue\n",
    "    (0, 0, 0, 1): [255, 111, 0],  # orange\n",
    "    (0, 0, 0, 0): [33, 33, 33]   # black\n",
    "}\n",
    "\n",
    "def viz_dna_image(dna_image):\n",
    "    dna_rgb_image = np.zeros((IMAGE_WIDTH, IMAGE_HEIGHT, 3))\n",
    "    for i, row in enumerate(dna_image):\n",
    "        for j, col in enumerate(row):\n",
    "            dna_rgb_image[i][j] = base_pair_colors[tuple(col)]\n",
    "    plt.imshow(dna_rgb_image/255.0)"
   ]
  },
  {
   "cell_type": "code",
   "execution_count": 10,
   "metadata": {},
   "outputs": [
    {
     "data": {
      "image/png": "[encoded data removed]",
      "text/plain": [
       "<Figure size 432x288 with 1 Axes>"
      ]
     },
     "metadata": {
      "needs_background": "light"
     },
     "output_type": "display_data"
    }
   ],
   "source": [
    "viz_dna_image(train_data[100])"
   ]
  },
  {
   "cell_type": "code",
   "execution_count": 11,
   "metadata": {},
   "outputs": [
    {
     "data": {
      "image/png": "[encoded data removed]",
      "text/plain": [
       "<Figure size 432x288 with 1 Axes>"
      ]
     },
     "metadata": {
      "needs_background": "light"
     },
     "output_type": "display_data"
    }
   ],
   "source": [
    "viz_dna_image(train_data[1000])"
   ]
  },
  {
   "cell_type": "code",
   "execution_count": 12,
   "metadata": {},
   "outputs": [],
   "source": [
    "def create_pytorch_datasets(data, labels):\n",
    "    tensor_x = torch.stack([torch.Tensor(np.swapaxes(i, 0, 2)) for i in data]) # transform to torch tensors\n",
    "    tensor_y = torch.stack([torch.Tensor([i]) for i in labels]).long().view(-1)\n",
    "\n",
    "    dataset = utils.TensorDataset(tensor_x,tensor_y) # create your datset\n",
    "    dataloader = utils.DataLoader(dataset, batch_size=BATCH_SIZE) # create your dataloader\n",
    "    \n",
    "    return dataloader"
   ]
  },
  {
   "cell_type": "code",
   "execution_count": 13,
   "metadata": {},
   "outputs": [],
   "source": [
    "train_dataloader = create_pytorch_datasets(train_data, train_labels)\n",
    "val_dataloader = create_pytorch_datasets(val_data, val_labels)\n",
    "test_dataloader = create_pytorch_datasets(test_data, test_labels)"
   ]
  },
  {
   "cell_type": "code",
   "execution_count": 14,
   "metadata": {},
   "outputs": [],
   "source": [
    "class SimpleCNN(nn.Module):\n",
    "\n",
    "    def __init__(self, num_classes):\n",
    "        super(SimpleCNN, self).__init__()\n",
    "        self.conv1 = nn.Conv2d(4, 32, kernel_size=10, stride=2)\n",
    "        self.conv2 = nn.Conv2d(32, 64, kernel_size=7, stride=1)\n",
    "        self.fc1 = nn.Linear(81*64, num_classes)\n",
    "\n",
    "    def forward(self, x):\n",
    "        x = F.relu(self.conv1(x))\n",
    "        x = F.relu(self.conv2(x))\n",
    "        x = x.view(x.shape[0], x.shape[1]*x.shape[2]*x.shape[3])\n",
    "        x = F.log_softmax(self.fc1(x), dim=1)\n",
    "        return(x)"
   ]
  },
  {
   "cell_type": "code",
   "execution_count": 15,
   "metadata": {},
   "outputs": [],
   "source": [
    "def cnn_train_model(model, train_loader, test_loader, optimizer, scheduler, EPOCH, config):\n",
    "    model = model.to(DEVICE)\n",
    "\n",
    "    if DEVICE == 'cuda':\n",
    "        model = torch.nn.DataParallel(model)\n",
    "        cudnn.benchmark = True\n",
    "\n",
    "    t0 = time.perf_counter()\n",
    "\n",
    "    loss_train = np.zeros((EPOCH,))\n",
    "    loss_test = np.zeros((EPOCH,))\n",
    "    acc_test = np.zeros((EPOCH,))\n",
    "    acc_train = np.zeros((EPOCH,))\n",
    "    time_test = np.zeros((EPOCH,))\n",
    "\n",
    "    bar = progressbar.ProgressBar(min_value=0, max_value=EPOCH-1)\n",
    "    for epoch in range(EPOCH):\n",
    "        bar.update(epoch)\n",
    "        scheduler.step()\n",
    "\n",
    "        # train 1 epoch\n",
    "        model.train()\n",
    "        correct = 0\n",
    "        train_loss = 0\n",
    "        for step, (x, y) in enumerate(train_loader):\n",
    "            x, y = x.to(DEVICE), y.to(DEVICE)\n",
    "            b_x = Variable(x)\n",
    "            b_y = Variable(y)\n",
    "            scores = model(b_x)\n",
    "            loss = F.nll_loss(scores, b_y)      # negative log likelyhood\n",
    "            optimizer.zero_grad()               # clear gradients for this training step\n",
    "            loss.backward()                     # backpropagation, compute gradients\n",
    "            optimizer.step()                    # apply gradients\n",
    "            model.zero_grad()\n",
    "\n",
    "            # computing training accuracy\n",
    "            pred = scores.data.max(1, keepdim=True)[1]\n",
    "            correct += pred.eq(b_y.data.view_as(pred)).long().cpu().sum()\n",
    "            train_loss += F.nll_loss(scores, b_y, reduction='sum').item()\n",
    "\n",
    "        acc_train[epoch] = 100 * float(correct) / float(len(train_loader.dataset))\n",
    "        loss_train[epoch] = train_loss / len(train_loader.dataset)\n",
    "\n",
    "        # testing\n",
    "        model.eval()\n",
    "        correct = 0\n",
    "        test_loss = 0\n",
    "        for step, (x, y) in enumerate(test_loader):\n",
    "            x, y = x.to(DEVICE), y.to(DEVICE)\n",
    "            b_x = Variable(x)\n",
    "            b_y = Variable(y)\n",
    "            scores = model(b_x)\n",
    "            test_loss += F.nll_loss(scores, b_y, reduction='sum').item()\n",
    "            pred = scores.data.max(1, keepdim=True)[1]\n",
    "            correct += pred.eq(b_y.data.view_as(pred)).long().cpu().sum()\n",
    "\n",
    "        loss_test[epoch] = test_loss/len(test_loader.dataset)\n",
    "        acc_test[epoch] = 100 * float(correct) / float(len(test_loader.dataset))\n",
    "        time_test[epoch] = time.perf_counter() - t0\n",
    "\n",
    "    return [acc_train, acc_test, loss_train, loss_test, config]"
   ]
  },
  {
   "cell_type": "code",
   "execution_count": 16,
   "metadata": {},
   "outputs": [],
   "source": [
    "def cnn_train_test(model, train_loader, test_loader, config={}):\n",
    "    # set params\n",
    "    if config:\n",
    "        print(\"Experiment:\", str(config))\n",
    "        learning_rate = config[\"lr\"]\n",
    "        weight_decay = config[\"weight_decay\"]\n",
    "\n",
    "    if config:\n",
    "        optimizer = torch.optim.SGD(model.parameters(), lr=learning_rate,\n",
    "                                    momentum=.9, weight_decay=weight_decay)\n",
    "    else:\n",
    "        # used Adadelta, as it wokrs well without any magic numbers\n",
    "        optimizer = torch.optim.Adadelta(model.parameters())\n",
    "\n",
    "    scheduler = torch.optim.lr_scheduler.StepLR(optimizer, step_size=EPOCH/3, gamma=.1)\n",
    "\n",
    "    return cnn_train_model(model, train_loader, test_loader, optimizer, scheduler, EPOCH, config)"
   ]
  },
  {
   "cell_type": "code",
   "execution_count": 17,
   "metadata": {},
   "outputs": [],
   "source": [
    "def plot(acc_train, acc_test, loss_train, loss_test):\n",
    "    plt.figure()\n",
    "    plt.subplot(1, 2, 1)\n",
    "    plt.plot(acc_train, label='Acc. Train')\n",
    "    plt.plot(acc_test, label='Acc. Test')\n",
    "    plt.legend()\n",
    "    plt.subplot(1, 2, 2)\n",
    "    plt.plot(loss_train, label='Loss Train')\n",
    "    plt.plot(loss_test, label='Loss Test')\n",
    "    plt.grid(True)\n",
    "    plt.xlabel('Epoch')\n",
    "    plt.legend()\n",
    "    plt.show()\n",
    "    plt.clf()"
   ]
  },
  {
   "cell_type": "code",
   "execution_count": 18,
   "metadata": {},
   "outputs": [
    {
     "name": "stderr",
     "output_type": "stream",
     "text": [
      "100% (9 of 9) |##########################| Elapsed Time: 0:04:29 ETA:  00:00:00"
     ]
    }
   ],
   "source": [
    "logs = cnn_train_test(SimpleCNN(NUM_CLASSES), train_dataloader, val_dataloader)"
   ]
  },
  {
   "cell_type": "code",
   "execution_count": 21,
   "metadata": {},
   "outputs": [
    {
     "data": {
      "image/png": "[encoded data removed]",
      "text/plain": [
       "<Figure size 576x396 with 2 Axes>"
      ]
     },
     "metadata": {},
     "output_type": "display_data"
    },
    {
     "data": {
      "text/plain": [
       "<Figure size 576x396 with 0 Axes>"
      ]
     },
     "metadata": {},
     "output_type": "display_data"
    }
   ],
   "source": [
    "plot(*logs[:-1])"
   ]
  },
  {
   "cell_type": "code",
   "execution_count": null,
   "metadata": {},
   "outputs": [],
   "source": []
  }
 ],
 "metadata": {
  "kernelspec": {
   "display_name": "Python 3",
   "language": "python",
   "name": "python3"
  },
  "language_info": {
   "codemirror_mode": {
    "name": "ipython",
    "version": 3
   },
   "file_extension": ".py",
   "mimetype": "text/x-python",
   "name": "python",
   "nbconvert_exporter": "python",
   "pygments_lexer": "ipython3",
   "version": "3.6.5"
  }
 },
 "nbformat": 4,
 "nbformat_minor": 2
}
