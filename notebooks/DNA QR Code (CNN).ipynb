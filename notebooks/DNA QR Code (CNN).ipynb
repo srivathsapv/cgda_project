{
 "cells": [
  {
   "cell_type": "code",
   "execution_count": 65,
   "metadata": {},
   "outputs": [],
   "source": [
    "import os\n",
    "\n",
    "import pandas as pd\n",
    "import numpy as np\n",
    "import matplotlib.pyplot as plt\n",
    "\n",
    "%matplotlib inline"
   ]
  },
  {
   "cell_type": "code",
   "execution_count": 3,
   "metadata": {},
   "outputs": [],
   "source": [
    "def read_data_from_csv(path):\n",
    "    df = pd.read_csv(path)\n",
    "    X = df[\"sequence\"].values\n",
    "    y = df[\"label\"].values\n",
    "    return X, y"
   ]
  },
  {
   "cell_type": "code",
   "execution_count": 20,
   "metadata": {},
   "outputs": [],
   "source": [
    "phylum_data_base_path = \"../data/hierarchy/phylum\"\n",
    "\n",
    "phylum_train_sequences, phylum_train_labels = read_data_from_csv(os.path.join(phylum_data_base_path, \"train.csv\"))\n",
    "phylum_val_sequences, phylum_val_labels = read_data_from_csv(os.path.join(phylum_data_base_path, \"val.csv\"))\n",
    "phylum_test_sequences, phylum_test_labels = read_data_from_csv(os.path.join(phylum_data_base_path, \"test.csv\"))"
   ]
  },
  {
   "cell_type": "code",
   "execution_count": 28,
   "metadata": {},
   "outputs": [
    {
     "name": "stdout",
     "output_type": "stream",
     "text": [
      "DNA Sequence Length Statistics:\n",
      "Max: 1370\n",
      "Min: 1270\n",
      "Mean: 1350.0\n",
      "Median: 1348.0\n",
      "Sqrt of Max: 38.0\n"
     ]
    }
   ],
   "source": [
    "a = list(map(lambda x: len(x), phylum_train_sequences))\n",
    "\n",
    "print(\"DNA Sequence Length Statistics:\")\n",
    "print(\"Max:\", np.max(a))\n",
    "print(\"Min:\", np.min(a))\n",
    "print(\"Mean:\", np.ceil(np.mean(a)))\n",
    "print(\"Median:\", np.ceil(np.median(a)))\n",
    "print(\"Sqrt of Max:\", np.ceil(np.sqrt(np.max(a))))"
   ]
  },
  {
   "cell_type": "code",
   "execution_count": 29,
   "metadata": {},
   "outputs": [],
   "source": [
    "IMAGE_WIDTH = IMAGE_HEIGHT = 38  # 1444 length zero-padded DNA sequences\n",
    "IMAGE_CHANNELS = 4  # A, C, G, T"
   ]
  },
  {
   "cell_type": "code",
   "execution_count": 62,
   "metadata": {},
   "outputs": [],
   "source": [
    "base_pair_map = {\n",
    "    'A': [1, 0, 0, 0],\n",
    "    'C': [0, 1, 0, 0],\n",
    "    'G': [0, 0, 1, 0],\n",
    "    'T': [0, 0, 0, 1]\n",
    "}\n",
    "\n",
    "def seqeunces_to_image(sequences):\n",
    "    image = np.zeros((len(sequences), IMAGE_WIDTH, IMAGE_HEIGHT, IMAGE_CHANNELS))\n",
    "    for i, sequence in enumerate(sequences):\n",
    "        for loc, base_pair in enumerate(sequence):\n",
    "            row = loc // IMAGE_HEIGHT\n",
    "            col = loc % IMAGE_HEIGHT\n",
    "            image[i, row, col] = base_pair_map[base_pair]\n",
    "    return image"
   ]
  },
  {
   "cell_type": "code",
   "execution_count": 63,
   "metadata": {},
   "outputs": [],
   "source": [
    "phylum_train_data = seqeunces_to_image(phylum_train_sequences)\n",
    "phylum_val_data = seqeunces_to_image(phylum_val_sequences)\n",
    "phylum_test_data = seqeunces_to_image(phylum_test_sequences)"
   ]
  },
  {
   "cell_type": "code",
   "execution_count": 95,
   "metadata": {},
   "outputs": [],
   "source": [
    "base_pair_colors = {\n",
    "    (1, 0, 0, 0): [183, 28, 28],  # red\n",
    "    (0, 1, 0, 0): [174, 234, 0],  # green\n",
    "    (0, 0, 1, 0): [0, 145, 234],  # blue\n",
    "    (0, 0, 0, 1): [255, 111, 0],  # orange\n",
    "    (0, 0, 0, 0): [33, 33, 33]   # black\n",
    "}\n",
    "\n",
    "def viz_dna_image(dna_image):\n",
    "    dna_rgb_image = np.zeros((IMAGE_WIDTH, IMAGE_HEIGHT, 3))\n",
    "    for i, row in enumerate(dna_image):\n",
    "        for j, col in enumerate(row):\n",
    "            dna_rgb_image[i][j] = base_pair_colors[tuple(col)]\n",
    "    plt.imshow(dna_rgb_image/255.0)"
   ]
  },
  {
   "cell_type": "code",
   "execution_count": 99,
   "metadata": {},
   "outputs": [
    {
     "data": {
      "image/png": "[encoded data removed]",
      "text/plain": [
       "<Figure size 432x288 with 1 Axes>"
      ]
     },
     "metadata": {
      "needs_background": "light"
     },
     "output_type": "display_data"
    }
   ],
   "source": [
    "viz_dna_image(phylum_train_data[100])"
   ]
  },
  {
   "cell_type": "code",
   "execution_count": 100,
   "metadata": {},
   "outputs": [
    {
     "data": {
      "image/png": "[encoded data removed]",
      "text/plain": [
       "<Figure size 432x288 with 1 Axes>"
      ]
     },
     "metadata": {
      "needs_background": "light"
     },
     "output_type": "display_data"
    }
   ],
   "source": [
    "viz_dna_image(phylum_train_data[1000])"
   ]
  },
  {
   "cell_type": "code",
   "execution_count": null,
   "metadata": {},
   "outputs": [],
   "source": []
  }
 ],
 "metadata": {
  "kernelspec": {
   "display_name": "Python 3",
   "language": "python",
   "name": "python3"
  },
  "language_info": {
   "codemirror_mode": {
    "name": "ipython",
    "version": 3
   },
   "file_extension": ".py",
   "mimetype": "text/x-python",
   "name": "python",
   "nbconvert_exporter": "python",
   "pygments_lexer": "ipython3",
   "version": "3.6.5"
  }
 },
 "nbformat": 4,
 "nbformat_minor": 2
}
